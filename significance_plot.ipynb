{
 "cells": [
  {
   "cell_type": "code",
   "execution_count": 50,
   "metadata": {},
   "outputs": [],
   "source": [
    "import statsmodels.api as sa\n",
    "import statsmodels.formula.api as sfa\n",
    "import scipy.stats as ss\n",
    "import scikit_posthocs as sp\n",
    "import pandas as pd\n",
    "import numpy as np\n",
    "import seaborn as sns\n",
    "import os, sys"
   ]
  },
  {
   "cell_type": "code",
   "execution_count": 28,
   "metadata": {},
   "outputs": [
    {
     "name": "stdout",
     "output_type": "stream",
     "text": [
      "Current working dir : C:\\Users\\1\\Downloads\n"
     ]
    }
   ],
   "source": [
    "print(\"Current working dir : %s\" % os.getcwd())"
   ]
  },
  {
   "cell_type": "code",
   "execution_count": 16,
   "metadata": {},
   "outputs": [],
   "source": [
    "coloc = pd.read_csv('~/coloc2.csv') "
   ]
  },
  {
   "cell_type": "code",
   "execution_count": 18,
   "metadata": {},
   "outputs": [
    {
     "data": {
      "text/html": [
       "<div>\n",
       "<style scoped>\n",
       "    .dataframe tbody tr th:only-of-type {\n",
       "        vertical-align: middle;\n",
       "    }\n",
       "\n",
       "    .dataframe tbody tr th {\n",
       "        vertical-align: top;\n",
       "    }\n",
       "\n",
       "    .dataframe thead th {\n",
       "        text-align: right;\n",
       "    }\n",
       "</style>\n",
       "<table border=\"1\" class=\"dataframe\">\n",
       "  <thead>\n",
       "    <tr style=\"text-align: right;\">\n",
       "      <th></th>\n",
       "      <th>probe</th>\n",
       "      <th>Rval</th>\n",
       "      <th>tM1</th>\n",
       "      <th>tM2</th>\n",
       "      <th>bTau</th>\n",
       "      <th>Rs</th>\n",
       "    </tr>\n",
       "  </thead>\n",
       "  <tbody>\n",
       "    <tr>\n",
       "      <th>0</th>\n",
       "      <td>p12</td>\n",
       "      <td>0.80</td>\n",
       "      <td>0.995</td>\n",
       "      <td>0.991</td>\n",
       "      <td>0.6415</td>\n",
       "      <td>0.823610</td>\n",
       "    </tr>\n",
       "    <tr>\n",
       "      <th>1</th>\n",
       "      <td>p12</td>\n",
       "      <td>0.61</td>\n",
       "      <td>0.847</td>\n",
       "      <td>0.659</td>\n",
       "      <td>0.6468</td>\n",
       "      <td>0.813707</td>\n",
       "    </tr>\n",
       "    <tr>\n",
       "      <th>2</th>\n",
       "      <td>p12</td>\n",
       "      <td>0.79</td>\n",
       "      <td>0.976</td>\n",
       "      <td>0.914</td>\n",
       "      <td>0.6556</td>\n",
       "      <td>0.824925</td>\n",
       "    </tr>\n",
       "    <tr>\n",
       "      <th>3</th>\n",
       "      <td>p12</td>\n",
       "      <td>0.29</td>\n",
       "      <td>0.759</td>\n",
       "      <td>0.837</td>\n",
       "      <td>0.3586</td>\n",
       "      <td>0.496017</td>\n",
       "    </tr>\n",
       "    <tr>\n",
       "      <th>4</th>\n",
       "      <td>p12</td>\n",
       "      <td>0.68</td>\n",
       "      <td>0.976</td>\n",
       "      <td>0.956</td>\n",
       "      <td>0.6595</td>\n",
       "      <td>0.825279</td>\n",
       "    </tr>\n",
       "  </tbody>\n",
       "</table>\n",
       "</div>"
      ],
      "text/plain": [
       "  probe  Rval    tM1    tM2    bTau        Rs\n",
       "0   p12  0.80  0.995  0.991  0.6415  0.823610\n",
       "1   p12  0.61  0.847  0.659  0.6468  0.813707\n",
       "2   p12  0.79  0.976  0.914  0.6556  0.824925\n",
       "3   p12  0.29  0.759  0.837  0.3586  0.496017\n",
       "4   p12  0.68  0.976  0.956  0.6595  0.825279"
      ]
     },
     "execution_count": 18,
     "metadata": {},
     "output_type": "execute_result"
    }
   ],
   "source": [
    "coloc.head()"
   ]
  },
  {
   "cell_type": "code",
   "execution_count": 40,
   "metadata": {},
   "outputs": [
    {
     "data": {
      "text/html": [
       "<div>\n",
       "<style scoped>\n",
       "    .dataframe tbody tr th:only-of-type {\n",
       "        vertical-align: middle;\n",
       "    }\n",
       "\n",
       "    .dataframe tbody tr th {\n",
       "        vertical-align: top;\n",
       "    }\n",
       "\n",
       "    .dataframe thead th {\n",
       "        text-align: right;\n",
       "    }\n",
       "</style>\n",
       "<table border=\"1\" class=\"dataframe\">\n",
       "  <thead>\n",
       "    <tr style=\"text-align: right;\">\n",
       "      <th></th>\n",
       "      <th>bTau</th>\n",
       "    </tr>\n",
       "    <tr>\n",
       "      <th>probe</th>\n",
       "      <th></th>\n",
       "    </tr>\n",
       "  </thead>\n",
       "  <tbody>\n",
       "    <tr>\n",
       "      <th>p12</th>\n",
       "      <td>0.610633</td>\n",
       "    </tr>\n",
       "    <tr>\n",
       "      <th>p15</th>\n",
       "      <td>0.487021</td>\n",
       "    </tr>\n",
       "    <tr>\n",
       "      <th>p18</th>\n",
       "      <td>0.533589</td>\n",
       "    </tr>\n",
       "    <tr>\n",
       "      <th>p21</th>\n",
       "      <td>0.634888</td>\n",
       "    </tr>\n",
       "    <tr>\n",
       "      <th>p25</th>\n",
       "      <td>0.632750</td>\n",
       "    </tr>\n",
       "    <tr>\n",
       "      <th>p27</th>\n",
       "      <td>0.700225</td>\n",
       "    </tr>\n",
       "    <tr>\n",
       "      <th>p28</th>\n",
       "      <td>0.735267</td>\n",
       "    </tr>\n",
       "    <tr>\n",
       "      <th>p7</th>\n",
       "      <td>0.596620</td>\n",
       "    </tr>\n",
       "    <tr>\n",
       "      <th>p9</th>\n",
       "      <td>0.635982</td>\n",
       "    </tr>\n",
       "  </tbody>\n",
       "</table>\n",
       "</div>"
      ],
      "text/plain": [
       "           bTau\n",
       "probe          \n",
       "p12    0.610633\n",
       "p15    0.487021\n",
       "p18    0.533589\n",
       "p21    0.634888\n",
       "p25    0.632750\n",
       "p27    0.700225\n",
       "p28    0.735267\n",
       "p7     0.596620\n",
       "p9     0.635982"
      ]
     },
     "execution_count": 40,
     "metadata": {},
     "output_type": "execute_result"
    }
   ],
   "source": [
    "coloc.groupby('probe').aggregate({'bTau' : 'mean'})"
   ]
  },
  {
   "cell_type": "code",
   "execution_count": 42,
   "metadata": {},
   "outputs": [],
   "source": [
    "df = coloc"
   ]
  },
  {
   "cell_type": "code",
   "execution_count": 43,
   "metadata": {},
   "outputs": [
    {
     "data": {
      "text/html": [
       "<div>\n",
       "<style scoped>\n",
       "    .dataframe tbody tr th:only-of-type {\n",
       "        vertical-align: middle;\n",
       "    }\n",
       "\n",
       "    .dataframe tbody tr th {\n",
       "        vertical-align: top;\n",
       "    }\n",
       "\n",
       "    .dataframe thead th {\n",
       "        text-align: right;\n",
       "    }\n",
       "</style>\n",
       "<table border=\"1\" class=\"dataframe\">\n",
       "  <thead>\n",
       "    <tr style=\"text-align: right;\">\n",
       "      <th></th>\n",
       "      <th>probe</th>\n",
       "      <th>Rval</th>\n",
       "      <th>tM1</th>\n",
       "      <th>tM2</th>\n",
       "      <th>bTau</th>\n",
       "      <th>Rs</th>\n",
       "    </tr>\n",
       "  </thead>\n",
       "  <tbody>\n",
       "    <tr>\n",
       "      <th>0</th>\n",
       "      <td>p12</td>\n",
       "      <td>0.80</td>\n",
       "      <td>0.995</td>\n",
       "      <td>0.991</td>\n",
       "      <td>0.6415</td>\n",
       "      <td>0.823610</td>\n",
       "    </tr>\n",
       "    <tr>\n",
       "      <th>1</th>\n",
       "      <td>p12</td>\n",
       "      <td>0.61</td>\n",
       "      <td>0.847</td>\n",
       "      <td>0.659</td>\n",
       "      <td>0.6468</td>\n",
       "      <td>0.813707</td>\n",
       "    </tr>\n",
       "    <tr>\n",
       "      <th>2</th>\n",
       "      <td>p12</td>\n",
       "      <td>0.79</td>\n",
       "      <td>0.976</td>\n",
       "      <td>0.914</td>\n",
       "      <td>0.6556</td>\n",
       "      <td>0.824925</td>\n",
       "    </tr>\n",
       "    <tr>\n",
       "      <th>3</th>\n",
       "      <td>p12</td>\n",
       "      <td>0.29</td>\n",
       "      <td>0.759</td>\n",
       "      <td>0.837</td>\n",
       "      <td>0.3586</td>\n",
       "      <td>0.496017</td>\n",
       "    </tr>\n",
       "    <tr>\n",
       "      <th>4</th>\n",
       "      <td>p12</td>\n",
       "      <td>0.68</td>\n",
       "      <td>0.976</td>\n",
       "      <td>0.956</td>\n",
       "      <td>0.6595</td>\n",
       "      <td>0.825279</td>\n",
       "    </tr>\n",
       "  </tbody>\n",
       "</table>\n",
       "</div>"
      ],
      "text/plain": [
       "  probe  Rval    tM1    tM2    bTau        Rs\n",
       "0   p12  0.80  0.995  0.991  0.6415  0.823610\n",
       "1   p12  0.61  0.847  0.659  0.6468  0.813707\n",
       "2   p12  0.79  0.976  0.914  0.6556  0.824925\n",
       "3   p12  0.29  0.759  0.837  0.3586  0.496017\n",
       "4   p12  0.68  0.976  0.956  0.6595  0.825279"
      ]
     },
     "execution_count": 43,
     "metadata": {},
     "output_type": "execute_result"
    }
   ],
   "source": [
    "df.head()"
   ]
  },
  {
   "cell_type": "code",
   "execution_count": null,
   "metadata": {},
   "outputs": [],
   "source": [
    "# https://github.com/maximtrp/scikit-posthocs"
   ]
  },
  {
   "cell_type": "code",
   "execution_count": 46,
   "metadata": {},
   "outputs": [],
   "source": [
    "lm = sfa.ols('bTau ~ C(probe)', data=df).fit()"
   ]
  },
  {
   "cell_type": "code",
   "execution_count": 47,
   "metadata": {},
   "outputs": [],
   "source": [
    "anova = sa.stats.anova_lm(lm)"
   ]
  },
  {
   "cell_type": "code",
   "execution_count": 48,
   "metadata": {},
   "outputs": [
    {
     "name": "stdout",
     "output_type": "stream",
     "text": [
      "            df    sum_sq   mean_sq         F    PR(>F)\n",
      "C(probe)   8.0  0.493564  0.061696  5.133686  0.000031\n",
      "Residual  85.0  1.021512  0.012018       NaN       NaN\n"
     ]
    }
   ],
   "source": [
    "print(anova)"
   ]
  },
  {
   "cell_type": "code",
   "execution_count": 49,
   "metadata": {},
   "outputs": [
    {
     "data": {
      "text/html": [
       "<div>\n",
       "<style scoped>\n",
       "    .dataframe tbody tr th:only-of-type {\n",
       "        vertical-align: middle;\n",
       "    }\n",
       "\n",
       "    .dataframe tbody tr th {\n",
       "        vertical-align: top;\n",
       "    }\n",
       "\n",
       "    .dataframe thead th {\n",
       "        text-align: right;\n",
       "    }\n",
       "</style>\n",
       "<table border=\"1\" class=\"dataframe\">\n",
       "  <thead>\n",
       "    <tr style=\"text-align: right;\">\n",
       "      <th></th>\n",
       "      <th>p12</th>\n",
       "      <th>p15</th>\n",
       "      <th>p18</th>\n",
       "      <th>p21</th>\n",
       "      <th>p25</th>\n",
       "      <th>p27</th>\n",
       "      <th>p28</th>\n",
       "      <th>p7</th>\n",
       "      <th>p9</th>\n",
       "    </tr>\n",
       "  </thead>\n",
       "  <tbody>\n",
       "    <tr>\n",
       "      <th>p12</th>\n",
       "      <td>-1.000000</td>\n",
       "      <td>0.813590</td>\n",
       "      <td>1.000000</td>\n",
       "      <td>1.000000</td>\n",
       "      <td>1.000000</td>\n",
       "      <td>1.000000</td>\n",
       "      <td>0.504285</td>\n",
       "      <td>1.000000</td>\n",
       "      <td>1.000000</td>\n",
       "    </tr>\n",
       "    <tr>\n",
       "      <th>p15</th>\n",
       "      <td>0.813590</td>\n",
       "      <td>-1.000000</td>\n",
       "      <td>1.000000</td>\n",
       "      <td>0.033698</td>\n",
       "      <td>0.461617</td>\n",
       "      <td>0.026880</td>\n",
       "      <td>0.005061</td>\n",
       "      <td>1.000000</td>\n",
       "      <td>0.326754</td>\n",
       "    </tr>\n",
       "    <tr>\n",
       "      <th>p18</th>\n",
       "      <td>1.000000</td>\n",
       "      <td>1.000000</td>\n",
       "      <td>-1.000000</td>\n",
       "      <td>0.073531</td>\n",
       "      <td>0.504285</td>\n",
       "      <td>0.006265</td>\n",
       "      <td>0.002706</td>\n",
       "      <td>1.000000</td>\n",
       "      <td>0.896146</td>\n",
       "    </tr>\n",
       "    <tr>\n",
       "      <th>p21</th>\n",
       "      <td>1.000000</td>\n",
       "      <td>0.033698</td>\n",
       "      <td>0.073531</td>\n",
       "      <td>-1.000000</td>\n",
       "      <td>1.000000</td>\n",
       "      <td>1.000000</td>\n",
       "      <td>0.316418</td>\n",
       "      <td>1.000000</td>\n",
       "      <td>1.000000</td>\n",
       "    </tr>\n",
       "    <tr>\n",
       "      <th>p25</th>\n",
       "      <td>1.000000</td>\n",
       "      <td>0.461617</td>\n",
       "      <td>0.504285</td>\n",
       "      <td>1.000000</td>\n",
       "      <td>-1.000000</td>\n",
       "      <td>1.000000</td>\n",
       "      <td>1.000000</td>\n",
       "      <td>1.000000</td>\n",
       "      <td>1.000000</td>\n",
       "    </tr>\n",
       "    <tr>\n",
       "      <th>p27</th>\n",
       "      <td>1.000000</td>\n",
       "      <td>0.026880</td>\n",
       "      <td>0.006265</td>\n",
       "      <td>1.000000</td>\n",
       "      <td>1.000000</td>\n",
       "      <td>-1.000000</td>\n",
       "      <td>1.000000</td>\n",
       "      <td>1.000000</td>\n",
       "      <td>1.000000</td>\n",
       "    </tr>\n",
       "    <tr>\n",
       "      <th>p28</th>\n",
       "      <td>0.504285</td>\n",
       "      <td>0.005061</td>\n",
       "      <td>0.002706</td>\n",
       "      <td>0.316418</td>\n",
       "      <td>1.000000</td>\n",
       "      <td>1.000000</td>\n",
       "      <td>-1.000000</td>\n",
       "      <td>0.825684</td>\n",
       "      <td>1.000000</td>\n",
       "    </tr>\n",
       "    <tr>\n",
       "      <th>p7</th>\n",
       "      <td>1.000000</td>\n",
       "      <td>1.000000</td>\n",
       "      <td>1.000000</td>\n",
       "      <td>1.000000</td>\n",
       "      <td>1.000000</td>\n",
       "      <td>1.000000</td>\n",
       "      <td>0.825684</td>\n",
       "      <td>-1.000000</td>\n",
       "      <td>1.000000</td>\n",
       "    </tr>\n",
       "    <tr>\n",
       "      <th>p9</th>\n",
       "      <td>1.000000</td>\n",
       "      <td>0.326754</td>\n",
       "      <td>0.896146</td>\n",
       "      <td>1.000000</td>\n",
       "      <td>1.000000</td>\n",
       "      <td>1.000000</td>\n",
       "      <td>1.000000</td>\n",
       "      <td>1.000000</td>\n",
       "      <td>-1.000000</td>\n",
       "    </tr>\n",
       "  </tbody>\n",
       "</table>\n",
       "</div>"
      ],
      "text/plain": [
       "          p12       p15       p18    ...          p28        p7        p9\n",
       "p12 -1.000000  0.813590  1.000000    ...     0.504285  1.000000  1.000000\n",
       "p15  0.813590 -1.000000  1.000000    ...     0.005061  1.000000  0.326754\n",
       "p18  1.000000  1.000000 -1.000000    ...     0.002706  1.000000  0.896146\n",
       "p21  1.000000  0.033698  0.073531    ...     0.316418  1.000000  1.000000\n",
       "p25  1.000000  0.461617  0.504285    ...     1.000000  1.000000  1.000000\n",
       "p27  1.000000  0.026880  0.006265    ...     1.000000  1.000000  1.000000\n",
       "p28  0.504285  0.005061  0.002706    ...    -1.000000  0.825684  1.000000\n",
       "p7   1.000000  1.000000  1.000000    ...     0.825684 -1.000000  1.000000\n",
       "p9   1.000000  0.326754  0.896146    ...     1.000000  1.000000 -1.000000\n",
       "\n",
       "[9 rows x 9 columns]"
      ]
     },
     "execution_count": 49,
     "metadata": {},
     "output_type": "execute_result"
    }
   ],
   "source": [
    "sp.posthoc_ttest(df, val_col='bTau', group_col='probe', p_adjust='holm')"
   ]
  },
  {
   "cell_type": "code",
   "execution_count": 51,
   "metadata": {},
   "outputs": [],
   "source": [
    "data = [df.loc[ids, 'bTau'].values for ids in df.groupby('probe').groups.values()]"
   ]
  },
  {
   "cell_type": "code",
   "execution_count": 52,
   "metadata": {},
   "outputs": [],
   "source": [
    "H, p = ss.kruskal(*data)"
   ]
  },
  {
   "cell_type": "code",
   "execution_count": 53,
   "metadata": {},
   "outputs": [
    {
     "data": {
      "text/plain": [
       "0.00012059509064468714"
      ]
     },
     "execution_count": 53,
     "metadata": {},
     "output_type": "execute_result"
    }
   ],
   "source": [
    "p"
   ]
  },
  {
   "cell_type": "code",
   "execution_count": 54,
   "metadata": {},
   "outputs": [
    {
     "data": {
      "text/html": [
       "<div>\n",
       "<style scoped>\n",
       "    .dataframe tbody tr th:only-of-type {\n",
       "        vertical-align: middle;\n",
       "    }\n",
       "\n",
       "    .dataframe tbody tr th {\n",
       "        vertical-align: top;\n",
       "    }\n",
       "\n",
       "    .dataframe thead th {\n",
       "        text-align: right;\n",
       "    }\n",
       "</style>\n",
       "<table border=\"1\" class=\"dataframe\">\n",
       "  <thead>\n",
       "    <tr style=\"text-align: right;\">\n",
       "      <th></th>\n",
       "      <th>p12</th>\n",
       "      <th>p15</th>\n",
       "      <th>p18</th>\n",
       "      <th>p21</th>\n",
       "      <th>p25</th>\n",
       "      <th>p27</th>\n",
       "      <th>p28</th>\n",
       "      <th>p7</th>\n",
       "      <th>p9</th>\n",
       "    </tr>\n",
       "  </thead>\n",
       "  <tbody>\n",
       "    <tr>\n",
       "      <th>p12</th>\n",
       "      <td>-1.000000</td>\n",
       "      <td>0.452359</td>\n",
       "      <td>0.792575</td>\n",
       "      <td>1.000000</td>\n",
       "      <td>1.000000</td>\n",
       "      <td>1.000000</td>\n",
       "      <td>0.381805</td>\n",
       "      <td>1.000000</td>\n",
       "      <td>1.000000</td>\n",
       "    </tr>\n",
       "    <tr>\n",
       "      <th>p15</th>\n",
       "      <td>0.452359</td>\n",
       "      <td>-1.000000</td>\n",
       "      <td>1.000000</td>\n",
       "      <td>0.048477</td>\n",
       "      <td>0.178143</td>\n",
       "      <td>0.001991</td>\n",
       "      <td>0.000066</td>\n",
       "      <td>0.538290</td>\n",
       "      <td>0.068986</td>\n",
       "    </tr>\n",
       "    <tr>\n",
       "      <th>p18</th>\n",
       "      <td>0.792575</td>\n",
       "      <td>1.000000</td>\n",
       "      <td>-1.000000</td>\n",
       "      <td>0.178143</td>\n",
       "      <td>0.357057</td>\n",
       "      <td>0.008914</td>\n",
       "      <td>0.000539</td>\n",
       "      <td>0.918789</td>\n",
       "      <td>0.195367</td>\n",
       "    </tr>\n",
       "    <tr>\n",
       "      <th>p21</th>\n",
       "      <td>1.000000</td>\n",
       "      <td>0.048477</td>\n",
       "      <td>0.178143</td>\n",
       "      <td>-1.000000</td>\n",
       "      <td>1.000000</td>\n",
       "      <td>1.000000</td>\n",
       "      <td>0.452906</td>\n",
       "      <td>1.000000</td>\n",
       "      <td>1.000000</td>\n",
       "    </tr>\n",
       "    <tr>\n",
       "      <th>p25</th>\n",
       "      <td>1.000000</td>\n",
       "      <td>0.178143</td>\n",
       "      <td>0.357057</td>\n",
       "      <td>1.000000</td>\n",
       "      <td>-1.000000</td>\n",
       "      <td>1.000000</td>\n",
       "      <td>0.972648</td>\n",
       "      <td>1.000000</td>\n",
       "      <td>1.000000</td>\n",
       "    </tr>\n",
       "    <tr>\n",
       "      <th>p27</th>\n",
       "      <td>1.000000</td>\n",
       "      <td>0.001991</td>\n",
       "      <td>0.008914</td>\n",
       "      <td>1.000000</td>\n",
       "      <td>1.000000</td>\n",
       "      <td>-1.000000</td>\n",
       "      <td>1.000000</td>\n",
       "      <td>0.972648</td>\n",
       "      <td>1.000000</td>\n",
       "    </tr>\n",
       "    <tr>\n",
       "      <th>p28</th>\n",
       "      <td>0.381805</td>\n",
       "      <td>0.000066</td>\n",
       "      <td>0.000539</td>\n",
       "      <td>0.452906</td>\n",
       "      <td>0.972648</td>\n",
       "      <td>1.000000</td>\n",
       "      <td>-1.000000</td>\n",
       "      <td>0.224214</td>\n",
       "      <td>0.878337</td>\n",
       "    </tr>\n",
       "    <tr>\n",
       "      <th>p7</th>\n",
       "      <td>1.000000</td>\n",
       "      <td>0.538290</td>\n",
       "      <td>0.918789</td>\n",
       "      <td>1.000000</td>\n",
       "      <td>1.000000</td>\n",
       "      <td>0.972648</td>\n",
       "      <td>0.224214</td>\n",
       "      <td>-1.000000</td>\n",
       "      <td>1.000000</td>\n",
       "    </tr>\n",
       "    <tr>\n",
       "      <th>p9</th>\n",
       "      <td>1.000000</td>\n",
       "      <td>0.068986</td>\n",
       "      <td>0.195367</td>\n",
       "      <td>1.000000</td>\n",
       "      <td>1.000000</td>\n",
       "      <td>1.000000</td>\n",
       "      <td>0.878337</td>\n",
       "      <td>1.000000</td>\n",
       "      <td>-1.000000</td>\n",
       "    </tr>\n",
       "  </tbody>\n",
       "</table>\n",
       "</div>"
      ],
      "text/plain": [
       "          p12       p15       p18    ...          p28        p7        p9\n",
       "p12 -1.000000  0.452359  0.792575    ...     0.381805  1.000000  1.000000\n",
       "p15  0.452359 -1.000000  1.000000    ...     0.000066  0.538290  0.068986\n",
       "p18  0.792575  1.000000 -1.000000    ...     0.000539  0.918789  0.195367\n",
       "p21  1.000000  0.048477  0.178143    ...     0.452906  1.000000  1.000000\n",
       "p25  1.000000  0.178143  0.357057    ...     0.972648  1.000000  1.000000\n",
       "p27  1.000000  0.001991  0.008914    ...     1.000000  0.972648  1.000000\n",
       "p28  0.381805  0.000066  0.000539    ...    -1.000000  0.224214  0.878337\n",
       "p7   1.000000  0.538290  0.918789    ...     0.224214 -1.000000  1.000000\n",
       "p9   1.000000  0.068986  0.195367    ...     0.878337  1.000000 -1.000000\n",
       "\n",
       "[9 rows x 9 columns]"
      ]
     },
     "execution_count": 54,
     "metadata": {},
     "output_type": "execute_result"
    }
   ],
   "source": [
    "sp.posthoc_conover(df, val_col='bTau', group_col='probe', p_adjust = 'holm')"
   ]
  },
  {
   "cell_type": "code",
   "execution_count": 55,
   "metadata": {},
   "outputs": [],
   "source": [
    "pc = sp.posthoc_conover(df, val_col='bTau', group_col='probe')"
   ]
  },
  {
   "cell_type": "code",
   "execution_count": 56,
   "metadata": {},
   "outputs": [],
   "source": [
    "heatmap_args = {'linewidths': 0.25, 'linecolor': '0.5', 'clip_on': False, 'square': True, 'cbar_ax_bbox': [0.80, 0.35, 0.04, 0.3]}"
   ]
  },
  {
   "cell_type": "code",
   "execution_count": 57,
   "metadata": {},
   "outputs": [
    {
     "data": {
      "text/plain": [
       "(<matplotlib.axes._subplots.AxesSubplot at 0x1b42e8a0358>,\n",
       " <matplotlib.colorbar.ColorbarBase at 0x1b42e12bdd8>)"
      ]
     },
     "execution_count": 57,
     "metadata": {},
     "output_type": "execute_result"
    },
    {
     "data": {
      "image/png": "[encoded data removed]",
      "text/plain": [
       "<Figure size 432x288 with 2 Axes>"
      ]
     },
     "metadata": {
      "needs_background": "light"
     },
     "output_type": "display_data"
    }
   ],
   "source": [
    "sp.sign_plot(pc, **heatmap_args)"
   ]
  },
  {
   "cell_type": "code",
   "execution_count": 64,
   "metadata": {},
   "outputs": [],
   "source": [
    "cmap = ['1', '#fb6a4a',  '#08306b',  '#4292c6', '#c6dbef']\n",
    "heatmap_args = {'cmap': cmap, 'linewidths': 0.25, 'linecolor': '0.5', 'clip_on': False, 'square': True, 'cbar_ax_bbox': [0.80, 0.35, 0.04, 0.3]}\n"
   ]
  },
  {
   "cell_type": "code",
   "execution_count": 65,
   "metadata": {},
   "outputs": [
    {
     "data": {
      "text/plain": [
       "(<matplotlib.axes._subplots.AxesSubplot at 0x1b42e25af98>,\n",
       " <matplotlib.colorbar.ColorbarBase at 0x1b42dc55668>)"
      ]
     },
     "execution_count": 65,
     "metadata": {},
     "output_type": "execute_result"
    },
    {
     "data": {
      "image/png": "[encoded data removed]",
      "text/plain": [
       "<Figure size 432x288 with 2 Axes>"
      ]
     },
     "metadata": {
      "needs_background": "light"
     },
     "output_type": "display_data"
    }
   ],
   "source": [
    "sp.sign_plot(pc, **heatmap_args)"
   ]
  },
  {
   "cell_type": "code",
   "execution_count": 66,
   "metadata": {},
   "outputs": [
    {
     "data": {
      "text/plain": [
       "(<matplotlib.axes._subplots.AxesSubplot at 0x1b42e7a6a20>,\n",
       " <matplotlib.colorbar.ColorbarBase at 0x1b42db06710>)"
      ]
     },
     "execution_count": 66,
     "metadata": {},
     "output_type": "execute_result"
    },
    {
     "data": {
      "image/png": "[encoded data removed]",
      "text/plain": [
       "<Figure size 432x288 with 2 Axes>"
      ]
     },
     "metadata": {
      "needs_background": "light"
     },
     "output_type": "display_data"
    }
   ],
   "source": [
    "pc = sp.posthoc_conover(df, val_col='Rval', group_col='probe')\n",
    "heatmap_args = {'linewidths': 0.25, 'linecolor': '0.5', 'clip_on': False, 'square': True, 'cbar_ax_bbox': [0.80, 0.35, 0.04, 0.3]}\n",
    "sp.sign_plot(pc, **heatmap_args)\n"
   ]
  },
  {
   "cell_type": "code",
   "execution_count": 67,
   "metadata": {},
   "outputs": [
    {
     "data": {
      "text/plain": [
       "(<matplotlib.axes._subplots.AxesSubplot at 0x1b42db2d588>,\n",
       " <matplotlib.colorbar.ColorbarBase at 0x1b42e0a6358>)"
      ]
     },
     "execution_count": 67,
     "metadata": {},
     "output_type": "execute_result"
    },
    {
     "data": {
      "image/png": "[encoded data removed]",
      "text/plain": [
       "<Figure size 432x288 with 2 Axes>"
      ]
     },
     "metadata": {
      "needs_background": "light"
     },
     "output_type": "display_data"
    }
   ],
   "source": [
    "pc = sp.posthoc_conover(df, val_col='Rs', group_col='probe')\n",
    "heatmap_args = {'linewidths': 0.25, 'linecolor': '0.5', 'clip_on': False, 'square': True, 'cbar_ax_bbox': [0.80, 0.35, 0.04, 0.3]}\n",
    "sp.sign_plot(pc, **heatmap_args)"
   ]
  },
  {
   "cell_type": "code",
   "execution_count": 68,
   "metadata": {},
   "outputs": [
    {
     "data": {
      "text/plain": [
       "(<matplotlib.axes._subplots.AxesSubplot at 0x1b42e0be0b8>,\n",
       " <matplotlib.colorbar.ColorbarBase at 0x1b42e5a6da0>)"
      ]
     },
     "execution_count": 68,
     "metadata": {},
     "output_type": "execute_result"
    },
    {
     "data": {
      "image/png": "[encoded data removed]",
      "text/plain": [
       "<Figure size 432x288 with 2 Axes>"
      ]
     },
     "metadata": {
      "needs_background": "light"
     },
     "output_type": "display_data"
    }
   ],
   "source": [
    "pc = sp.posthoc_conover(df, val_col='tM1', group_col='probe')\n",
    "heatmap_args = {'linewidths': 0.25, 'linecolor': '0.5', 'clip_on': False, 'square': True, 'cbar_ax_bbox': [0.80, 0.35, 0.04, 0.3]}\n",
    "sp.sign_plot(pc, **heatmap_args)"
   ]
  },
  {
   "cell_type": "code",
   "execution_count": 69,
   "metadata": {},
   "outputs": [
    {
     "data": {
      "text/plain": [
       "(<matplotlib.axes._subplots.AxesSubplot at 0x1b42dc12be0>,\n",
       " <matplotlib.colorbar.ColorbarBase at 0x1b42e78f9e8>)"
      ]
     },
     "execution_count": 69,
     "metadata": {},
     "output_type": "execute_result"
    },
    {
     "data": {
      "image/png": "[encoded data removed]",
      "text/plain": [
       "<Figure size 432x288 with 2 Axes>"
      ]
     },
     "metadata": {
      "needs_background": "light"
     },
     "output_type": "display_data"
    }
   ],
   "source": [
    "pc = sp.posthoc_conover(df, val_col='tM2', group_col='probe')\n",
    "heatmap_args = {'linewidths': 0.25, 'linecolor': '0.5', 'clip_on': False, 'square': True, 'cbar_ax_bbox': [0.80, 0.35, 0.04, 0.3]}\n",
    "sp.sign_plot(pc, **heatmap_args)"
   ]
  },
  {
   "cell_type": "code",
   "execution_count": 70,
   "metadata": {},
   "outputs": [
    {
     "data": {
      "text/plain": [
       "(<matplotlib.axes._subplots.AxesSubplot at 0x1b42e79b710>,\n",
       " <matplotlib.colorbar.ColorbarBase at 0x1b42e6db470>)"
      ]
     },
     "execution_count": 70,
     "metadata": {},
     "output_type": "execute_result"
    },
    {
     "data": {
      "image/png": "[encoded data removed]",
      "text/plain": [
       "<Figure size 432x288 with 2 Axes>"
      ]
     },
     "metadata": {
      "needs_background": "light"
     },
     "output_type": "display_data"
    }
   ],
   "source": [
    "pc = sp.posthoc_conover(df, val_col='bTau', group_col='probe')\n",
    "heatmap_args = {'linewidths': 0.25, 'linecolor': '0.5', 'clip_on': False, 'square': True, 'cbar_ax_bbox': [0.80, 0.35, 0.04, 0.3]}\n",
    "sp.sign_plot(pc, **heatmap_args)"
   ]
  },
  {
   "cell_type": "code",
   "execution_count": null,
   "metadata": {},
   "outputs": [],
   "source": []
  }
 ],
 "metadata": {
  "kernelspec": {
   "display_name": "Python 3",
   "language": "python",
   "name": "python3"
  },
  "language_info": {
   "codemirror_mode": {
    "name": "ipython",
    "version": 3
   },
   "file_extension": ".py",
   "mimetype": "text/x-python",
   "name": "python",
   "nbconvert_exporter": "python",
   "pygments_lexer": "ipython3",
   "version": "3.7.0"
  }
 },
 "nbformat": 4,
 "nbformat_minor": 2
}
