{
 "cells": [
  {
   "cell_type": "code",
   "execution_count": null,
   "metadata": {},
   "outputs": [],
   "source": [
    "\"\"\"\n",
    "`bonferroni` : one-step correction\n",
    "`sidak` : one-step correction\n",
    "`holm-sidak` : step down method using Sidak adjustments\n",
    "`holm` : step-down method using Bonferroni adjustments\n",
    "`simes-hochberg` : step-up method  (independent)\n",
    "`hommel` : closed method based on Simes tests (non-negative)\n",
    "`fdr_bh` : Benjamini/Hochberg  (non-negative)\n",
    "`fdr_by` : Benjamini/Yekutieli (negative)\n",
    "`fdr_tsbh` : two stage fdr correction (non-negative)\n",
    "`fdr_tsbky` : two stage fdr correction (non-negative)\n",
    "\"\"\""
   ]
  },
  {
   "cell_type": "code",
   "execution_count": 15,
   "metadata": {},
   "outputs": [],
   "source": [
    "import statsmodels.api as sa\n",
    "import statsmodels.formula.api as sfa\n",
    "import scipy.stats as ss\n",
    "import scikit_posthocs as sp\n",
    "import pandas as pd\n",
    "import numpy as np\n",
    "import seaborn as sns\n",
    "import os, sys"
   ]
  },
  {
   "cell_type": "code",
   "execution_count": 266,
   "metadata": {},
   "outputs": [
    {
     "name": "stdout",
     "output_type": "stream",
     "text": [
      "Current working dir : C:\\Users\\1\\Downloads\n"
     ]
    }
   ],
   "source": [
    "print(\"Current working dir : %s\" % os.getcwd())"
   ]
  },
  {
   "cell_type": "code",
   "execution_count": 19,
   "metadata": {},
   "outputs": [],
   "source": [
    "coloc = pd.read_csv('~/coloc.csv')"
   ]
  },
  {
   "cell_type": "code",
   "execution_count": 20,
   "metadata": {},
   "outputs": [
    {
     "data": {
      "text/html": [
       "<div>\n",
       "<style scoped>\n",
       "    .dataframe tbody tr th:only-of-type {\n",
       "        vertical-align: middle;\n",
       "    }\n",
       "\n",
       "    .dataframe tbody tr th {\n",
       "        vertical-align: top;\n",
       "    }\n",
       "\n",
       "    .dataframe thead th {\n",
       "        text-align: right;\n",
       "    }\n",
       "</style>\n",
       "<table border=\"1\" class=\"dataframe\">\n",
       "  <thead>\n",
       "    <tr style=\"text-align: right;\">\n",
       "      <th></th>\n",
       "      <th>probe</th>\n",
       "      <th>Rval</th>\n",
       "      <th>tM1</th>\n",
       "      <th>tM2</th>\n",
       "      <th>bTau</th>\n",
       "      <th>Rs</th>\n",
       "    </tr>\n",
       "  </thead>\n",
       "  <tbody>\n",
       "    <tr>\n",
       "      <th>0</th>\n",
       "      <td>p07</td>\n",
       "      <td>0.68</td>\n",
       "      <td>0.899</td>\n",
       "      <td>0.936</td>\n",
       "      <td>0.6028</td>\n",
       "      <td>0.776807</td>\n",
       "    </tr>\n",
       "    <tr>\n",
       "      <th>1</th>\n",
       "      <td>p07</td>\n",
       "      <td>0.89</td>\n",
       "      <td>0.975</td>\n",
       "      <td>1.000</td>\n",
       "      <td>0.7802</td>\n",
       "      <td>0.914970</td>\n",
       "    </tr>\n",
       "    <tr>\n",
       "      <th>2</th>\n",
       "      <td>p07</td>\n",
       "      <td>0.74</td>\n",
       "      <td>0.922</td>\n",
       "      <td>0.867</td>\n",
       "      <td>0.7680</td>\n",
       "      <td>0.912862</td>\n",
       "    </tr>\n",
       "    <tr>\n",
       "      <th>3</th>\n",
       "      <td>p07</td>\n",
       "      <td>0.69</td>\n",
       "      <td>0.886</td>\n",
       "      <td>0.889</td>\n",
       "      <td>0.5560</td>\n",
       "      <td>0.731622</td>\n",
       "    </tr>\n",
       "    <tr>\n",
       "      <th>4</th>\n",
       "      <td>p07</td>\n",
       "      <td>0.54</td>\n",
       "      <td>0.870</td>\n",
       "      <td>0.876</td>\n",
       "      <td>0.4581</td>\n",
       "      <td>0.625792</td>\n",
       "    </tr>\n",
       "  </tbody>\n",
       "</table>\n",
       "</div>"
      ],
      "text/plain": [
       "  probe  Rval    tM1    tM2    bTau        Rs\n",
       "0   p07  0.68  0.899  0.936  0.6028  0.776807\n",
       "1   p07  0.89  0.975  1.000  0.7802  0.914970\n",
       "2   p07  0.74  0.922  0.867  0.7680  0.912862\n",
       "3   p07  0.69  0.886  0.889  0.5560  0.731622\n",
       "4   p07  0.54  0.870  0.876  0.4581  0.625792"
      ]
     },
     "execution_count": 20,
     "metadata": {},
     "output_type": "execute_result"
    }
   ],
   "source": [
    "coloc.head()"
   ]
  },
  {
   "cell_type": "code",
   "execution_count": 21,
   "metadata": {},
   "outputs": [
    {
     "data": {
      "text/html": [
       "<div>\n",
       "<style scoped>\n",
       "    .dataframe tbody tr th:only-of-type {\n",
       "        vertical-align: middle;\n",
       "    }\n",
       "\n",
       "    .dataframe tbody tr th {\n",
       "        vertical-align: top;\n",
       "    }\n",
       "\n",
       "    .dataframe thead th {\n",
       "        text-align: right;\n",
       "    }\n",
       "</style>\n",
       "<table border=\"1\" class=\"dataframe\">\n",
       "  <thead>\n",
       "    <tr style=\"text-align: right;\">\n",
       "      <th></th>\n",
       "      <th>bTau</th>\n",
       "    </tr>\n",
       "    <tr>\n",
       "      <th>probe</th>\n",
       "      <th></th>\n",
       "    </tr>\n",
       "  </thead>\n",
       "  <tbody>\n",
       "    <tr>\n",
       "      <th>p07</th>\n",
       "      <td>0.596620</td>\n",
       "    </tr>\n",
       "    <tr>\n",
       "      <th>p09</th>\n",
       "      <td>0.635982</td>\n",
       "    </tr>\n",
       "    <tr>\n",
       "      <th>p12</th>\n",
       "      <td>0.610633</td>\n",
       "    </tr>\n",
       "    <tr>\n",
       "      <th>p15</th>\n",
       "      <td>0.487021</td>\n",
       "    </tr>\n",
       "    <tr>\n",
       "      <th>p18</th>\n",
       "      <td>0.533589</td>\n",
       "    </tr>\n",
       "    <tr>\n",
       "      <th>p21</th>\n",
       "      <td>0.634888</td>\n",
       "    </tr>\n",
       "    <tr>\n",
       "      <th>p25</th>\n",
       "      <td>0.632750</td>\n",
       "    </tr>\n",
       "    <tr>\n",
       "      <th>p27</th>\n",
       "      <td>0.700225</td>\n",
       "    </tr>\n",
       "    <tr>\n",
       "      <th>p28</th>\n",
       "      <td>0.735267</td>\n",
       "    </tr>\n",
       "  </tbody>\n",
       "</table>\n",
       "</div>"
      ],
      "text/plain": [
       "           bTau\n",
       "probe          \n",
       "p07    0.596620\n",
       "p09    0.635982\n",
       "p12    0.610633\n",
       "p15    0.487021\n",
       "p18    0.533589\n",
       "p21    0.634888\n",
       "p25    0.632750\n",
       "p27    0.700225\n",
       "p28    0.735267"
      ]
     },
     "execution_count": 21,
     "metadata": {},
     "output_type": "execute_result"
    }
   ],
   "source": [
    "coloc.groupby('probe').aggregate({'bTau' : 'mean'})"
   ]
  },
  {
   "cell_type": "code",
   "execution_count": 22,
   "metadata": {},
   "outputs": [],
   "source": [
    "df = coloc"
   ]
  },
  {
   "cell_type": "code",
   "execution_count": 23,
   "metadata": {},
   "outputs": [
    {
     "data": {
      "text/html": [
       "<div>\n",
       "<style scoped>\n",
       "    .dataframe tbody tr th:only-of-type {\n",
       "        vertical-align: middle;\n",
       "    }\n",
       "\n",
       "    .dataframe tbody tr th {\n",
       "        vertical-align: top;\n",
       "    }\n",
       "\n",
       "    .dataframe thead th {\n",
       "        text-align: right;\n",
       "    }\n",
       "</style>\n",
       "<table border=\"1\" class=\"dataframe\">\n",
       "  <thead>\n",
       "    <tr style=\"text-align: right;\">\n",
       "      <th></th>\n",
       "      <th>probe</th>\n",
       "      <th>Rval</th>\n",
       "      <th>tM1</th>\n",
       "      <th>tM2</th>\n",
       "      <th>bTau</th>\n",
       "      <th>Rs</th>\n",
       "    </tr>\n",
       "  </thead>\n",
       "  <tbody>\n",
       "    <tr>\n",
       "      <th>0</th>\n",
       "      <td>p07</td>\n",
       "      <td>0.68</td>\n",
       "      <td>0.899</td>\n",
       "      <td>0.936</td>\n",
       "      <td>0.6028</td>\n",
       "      <td>0.776807</td>\n",
       "    </tr>\n",
       "    <tr>\n",
       "      <th>1</th>\n",
       "      <td>p07</td>\n",
       "      <td>0.89</td>\n",
       "      <td>0.975</td>\n",
       "      <td>1.000</td>\n",
       "      <td>0.7802</td>\n",
       "      <td>0.914970</td>\n",
       "    </tr>\n",
       "    <tr>\n",
       "      <th>2</th>\n",
       "      <td>p07</td>\n",
       "      <td>0.74</td>\n",
       "      <td>0.922</td>\n",
       "      <td>0.867</td>\n",
       "      <td>0.7680</td>\n",
       "      <td>0.912862</td>\n",
       "    </tr>\n",
       "    <tr>\n",
       "      <th>3</th>\n",
       "      <td>p07</td>\n",
       "      <td>0.69</td>\n",
       "      <td>0.886</td>\n",
       "      <td>0.889</td>\n",
       "      <td>0.5560</td>\n",
       "      <td>0.731622</td>\n",
       "    </tr>\n",
       "    <tr>\n",
       "      <th>4</th>\n",
       "      <td>p07</td>\n",
       "      <td>0.54</td>\n",
       "      <td>0.870</td>\n",
       "      <td>0.876</td>\n",
       "      <td>0.4581</td>\n",
       "      <td>0.625792</td>\n",
       "    </tr>\n",
       "  </tbody>\n",
       "</table>\n",
       "</div>"
      ],
      "text/plain": [
       "  probe  Rval    tM1    tM2    bTau        Rs\n",
       "0   p07  0.68  0.899  0.936  0.6028  0.776807\n",
       "1   p07  0.89  0.975  1.000  0.7802  0.914970\n",
       "2   p07  0.74  0.922  0.867  0.7680  0.912862\n",
       "3   p07  0.69  0.886  0.889  0.5560  0.731622\n",
       "4   p07  0.54  0.870  0.876  0.4581  0.625792"
      ]
     },
     "execution_count": 23,
     "metadata": {},
     "output_type": "execute_result"
    }
   ],
   "source": [
    "df.head()"
   ]
  },
  {
   "cell_type": "code",
   "execution_count": 24,
   "metadata": {},
   "outputs": [],
   "source": [
    "# https://github.com/maximtrp/scikit-posthocs"
   ]
  },
  {
   "cell_type": "code",
   "execution_count": 25,
   "metadata": {},
   "outputs": [],
   "source": [
    "lm = sfa.ols('bTau ~ C(probe)', data=df).fit()\n",
    "anova = sa.stats.anova_lm(lm)\n",
    "print(anova)"
   ]
  },
  {
   "cell_type": "code",
   "execution_count": 27,
   "metadata": {},
   "outputs": [
    {
     "name": "stdout",
     "output_type": "stream",
     "text": [
      "            df    sum_sq   mean_sq         F    PR(>F)\n",
      "C(probe)   8.0  0.493564  0.061696  5.133686  0.000031\n",
      "Residual  85.0  1.021512  0.012018       NaN       NaN\n"
     ]
    }
   ],
   "source": []
  },
  {
   "cell_type": "code",
   "execution_count": 28,
   "metadata": {},
   "outputs": [
    {
     "data": {
      "text/html": [
       "<div>\n",
       "<style scoped>\n",
       "    .dataframe tbody tr th:only-of-type {\n",
       "        vertical-align: middle;\n",
       "    }\n",
       "\n",
       "    .dataframe tbody tr th {\n",
       "        vertical-align: top;\n",
       "    }\n",
       "\n",
       "    .dataframe thead th {\n",
       "        text-align: right;\n",
       "    }\n",
       "</style>\n",
       "<table border=\"1\" class=\"dataframe\">\n",
       "  <thead>\n",
       "    <tr style=\"text-align: right;\">\n",
       "      <th></th>\n",
       "      <th>p07</th>\n",
       "      <th>p09</th>\n",
       "      <th>p12</th>\n",
       "      <th>p15</th>\n",
       "      <th>p18</th>\n",
       "      <th>p21</th>\n",
       "      <th>p25</th>\n",
       "      <th>p27</th>\n",
       "      <th>p28</th>\n",
       "    </tr>\n",
       "  </thead>\n",
       "  <tbody>\n",
       "    <tr>\n",
       "      <th>p07</th>\n",
       "      <td>-1.000000</td>\n",
       "      <td>1.000000</td>\n",
       "      <td>1.000000</td>\n",
       "      <td>1.000000</td>\n",
       "      <td>1.000000</td>\n",
       "      <td>1.000000</td>\n",
       "      <td>1.000000</td>\n",
       "      <td>1.000000</td>\n",
       "      <td>0.825684</td>\n",
       "    </tr>\n",
       "    <tr>\n",
       "      <th>p09</th>\n",
       "      <td>1.000000</td>\n",
       "      <td>-1.000000</td>\n",
       "      <td>1.000000</td>\n",
       "      <td>0.326754</td>\n",
       "      <td>0.896146</td>\n",
       "      <td>1.000000</td>\n",
       "      <td>1.000000</td>\n",
       "      <td>1.000000</td>\n",
       "      <td>1.000000</td>\n",
       "    </tr>\n",
       "    <tr>\n",
       "      <th>p12</th>\n",
       "      <td>1.000000</td>\n",
       "      <td>1.000000</td>\n",
       "      <td>-1.000000</td>\n",
       "      <td>0.813590</td>\n",
       "      <td>1.000000</td>\n",
       "      <td>1.000000</td>\n",
       "      <td>1.000000</td>\n",
       "      <td>1.000000</td>\n",
       "      <td>0.504285</td>\n",
       "    </tr>\n",
       "    <tr>\n",
       "      <th>p15</th>\n",
       "      <td>1.000000</td>\n",
       "      <td>0.326754</td>\n",
       "      <td>0.813590</td>\n",
       "      <td>-1.000000</td>\n",
       "      <td>1.000000</td>\n",
       "      <td>0.033698</td>\n",
       "      <td>0.461617</td>\n",
       "      <td>0.026880</td>\n",
       "      <td>0.005061</td>\n",
       "    </tr>\n",
       "    <tr>\n",
       "      <th>p18</th>\n",
       "      <td>1.000000</td>\n",
       "      <td>0.896146</td>\n",
       "      <td>1.000000</td>\n",
       "      <td>1.000000</td>\n",
       "      <td>-1.000000</td>\n",
       "      <td>0.073531</td>\n",
       "      <td>0.504285</td>\n",
       "      <td>0.006265</td>\n",
       "      <td>0.002706</td>\n",
       "    </tr>\n",
       "    <tr>\n",
       "      <th>p21</th>\n",
       "      <td>1.000000</td>\n",
       "      <td>1.000000</td>\n",
       "      <td>1.000000</td>\n",
       "      <td>0.033698</td>\n",
       "      <td>0.073531</td>\n",
       "      <td>-1.000000</td>\n",
       "      <td>1.000000</td>\n",
       "      <td>1.000000</td>\n",
       "      <td>0.316418</td>\n",
       "    </tr>\n",
       "    <tr>\n",
       "      <th>p25</th>\n",
       "      <td>1.000000</td>\n",
       "      <td>1.000000</td>\n",
       "      <td>1.000000</td>\n",
       "      <td>0.461617</td>\n",
       "      <td>0.504285</td>\n",
       "      <td>1.000000</td>\n",
       "      <td>-1.000000</td>\n",
       "      <td>1.000000</td>\n",
       "      <td>1.000000</td>\n",
       "    </tr>\n",
       "    <tr>\n",
       "      <th>p27</th>\n",
       "      <td>1.000000</td>\n",
       "      <td>1.000000</td>\n",
       "      <td>1.000000</td>\n",
       "      <td>0.026880</td>\n",
       "      <td>0.006265</td>\n",
       "      <td>1.000000</td>\n",
       "      <td>1.000000</td>\n",
       "      <td>-1.000000</td>\n",
       "      <td>1.000000</td>\n",
       "    </tr>\n",
       "    <tr>\n",
       "      <th>p28</th>\n",
       "      <td>0.825684</td>\n",
       "      <td>1.000000</td>\n",
       "      <td>0.504285</td>\n",
       "      <td>0.005061</td>\n",
       "      <td>0.002706</td>\n",
       "      <td>0.316418</td>\n",
       "      <td>1.000000</td>\n",
       "      <td>1.000000</td>\n",
       "      <td>-1.000000</td>\n",
       "    </tr>\n",
       "  </tbody>\n",
       "</table>\n",
       "</div>"
      ],
      "text/plain": [
       "          p07       p09       p12       p15       p18       p21       p25  \\\n",
       "p07 -1.000000  1.000000  1.000000  1.000000  1.000000  1.000000  1.000000   \n",
       "p09  1.000000 -1.000000  1.000000  0.326754  0.896146  1.000000  1.000000   \n",
       "p12  1.000000  1.000000 -1.000000  0.813590  1.000000  1.000000  1.000000   \n",
       "p15  1.000000  0.326754  0.813590 -1.000000  1.000000  0.033698  0.461617   \n",
       "p18  1.000000  0.896146  1.000000  1.000000 -1.000000  0.073531  0.504285   \n",
       "p21  1.000000  1.000000  1.000000  0.033698  0.073531 -1.000000  1.000000   \n",
       "p25  1.000000  1.000000  1.000000  0.461617  0.504285  1.000000 -1.000000   \n",
       "p27  1.000000  1.000000  1.000000  0.026880  0.006265  1.000000  1.000000   \n",
       "p28  0.825684  1.000000  0.504285  0.005061  0.002706  0.316418  1.000000   \n",
       "\n",
       "          p27       p28  \n",
       "p07  1.000000  0.825684  \n",
       "p09  1.000000  1.000000  \n",
       "p12  1.000000  0.504285  \n",
       "p15  0.026880  0.005061  \n",
       "p18  0.006265  0.002706  \n",
       "p21  1.000000  0.316418  \n",
       "p25  1.000000  1.000000  \n",
       "p27 -1.000000  1.000000  \n",
       "p28  1.000000 -1.000000  "
      ]
     },
     "execution_count": 28,
     "metadata": {},
     "output_type": "execute_result"
    }
   ],
   "source": [
    "sp.posthoc_ttest(df, val_col='bTau', group_col='probe', p_adjust='holm')"
   ]
  },
  {
   "cell_type": "code",
   "execution_count": 29,
   "metadata": {},
   "outputs": [],
   "source": [
    "data = [df.loc[ids, 'bTau'].values for ids in df.groupby('probe').groups.values()]\n",
    "H, p = ss.kruskal(*data)\n",
    "p"
   ]
  },
  {
   "cell_type": "code",
   "execution_count": 31,
   "metadata": {},
   "outputs": [
    {
     "data": {
      "text/plain": [
       "0.00012059509064468714"
      ]
     },
     "execution_count": 31,
     "metadata": {},
     "output_type": "execute_result"
    }
   ],
   "source": []
  },
  {
   "cell_type": "code",
   "execution_count": 32,
   "metadata": {},
   "outputs": [
    {
     "data": {
      "text/html": [
       "<div>\n",
       "<style scoped>\n",
       "    .dataframe tbody tr th:only-of-type {\n",
       "        vertical-align: middle;\n",
       "    }\n",
       "\n",
       "    .dataframe tbody tr th {\n",
       "        vertical-align: top;\n",
       "    }\n",
       "\n",
       "    .dataframe thead th {\n",
       "        text-align: right;\n",
       "    }\n",
       "</style>\n",
       "<table border=\"1\" class=\"dataframe\">\n",
       "  <thead>\n",
       "    <tr style=\"text-align: right;\">\n",
       "      <th></th>\n",
       "      <th>p07</th>\n",
       "      <th>p09</th>\n",
       "      <th>p12</th>\n",
       "      <th>p15</th>\n",
       "      <th>p18</th>\n",
       "      <th>p21</th>\n",
       "      <th>p25</th>\n",
       "      <th>p27</th>\n",
       "      <th>p28</th>\n",
       "    </tr>\n",
       "  </thead>\n",
       "  <tbody>\n",
       "    <tr>\n",
       "      <th>p07</th>\n",
       "      <td>-1.000000</td>\n",
       "      <td>1.000000</td>\n",
       "      <td>1.000000</td>\n",
       "      <td>0.538290</td>\n",
       "      <td>0.918789</td>\n",
       "      <td>1.000000</td>\n",
       "      <td>1.000000</td>\n",
       "      <td>0.972648</td>\n",
       "      <td>0.224214</td>\n",
       "    </tr>\n",
       "    <tr>\n",
       "      <th>p09</th>\n",
       "      <td>1.000000</td>\n",
       "      <td>-1.000000</td>\n",
       "      <td>1.000000</td>\n",
       "      <td>0.068986</td>\n",
       "      <td>0.195367</td>\n",
       "      <td>1.000000</td>\n",
       "      <td>1.000000</td>\n",
       "      <td>1.000000</td>\n",
       "      <td>0.878337</td>\n",
       "    </tr>\n",
       "    <tr>\n",
       "      <th>p12</th>\n",
       "      <td>1.000000</td>\n",
       "      <td>1.000000</td>\n",
       "      <td>-1.000000</td>\n",
       "      <td>0.452359</td>\n",
       "      <td>0.792575</td>\n",
       "      <td>1.000000</td>\n",
       "      <td>1.000000</td>\n",
       "      <td>1.000000</td>\n",
       "      <td>0.381805</td>\n",
       "    </tr>\n",
       "    <tr>\n",
       "      <th>p15</th>\n",
       "      <td>0.538290</td>\n",
       "      <td>0.068986</td>\n",
       "      <td>0.452359</td>\n",
       "      <td>-1.000000</td>\n",
       "      <td>1.000000</td>\n",
       "      <td>0.048477</td>\n",
       "      <td>0.178143</td>\n",
       "      <td>0.001991</td>\n",
       "      <td>0.000066</td>\n",
       "    </tr>\n",
       "    <tr>\n",
       "      <th>p18</th>\n",
       "      <td>0.918789</td>\n",
       "      <td>0.195367</td>\n",
       "      <td>0.792575</td>\n",
       "      <td>1.000000</td>\n",
       "      <td>-1.000000</td>\n",
       "      <td>0.178143</td>\n",
       "      <td>0.357057</td>\n",
       "      <td>0.008914</td>\n",
       "      <td>0.000539</td>\n",
       "    </tr>\n",
       "    <tr>\n",
       "      <th>p21</th>\n",
       "      <td>1.000000</td>\n",
       "      <td>1.000000</td>\n",
       "      <td>1.000000</td>\n",
       "      <td>0.048477</td>\n",
       "      <td>0.178143</td>\n",
       "      <td>-1.000000</td>\n",
       "      <td>1.000000</td>\n",
       "      <td>1.000000</td>\n",
       "      <td>0.452906</td>\n",
       "    </tr>\n",
       "    <tr>\n",
       "      <th>p25</th>\n",
       "      <td>1.000000</td>\n",
       "      <td>1.000000</td>\n",
       "      <td>1.000000</td>\n",
       "      <td>0.178143</td>\n",
       "      <td>0.357057</td>\n",
       "      <td>1.000000</td>\n",
       "      <td>-1.000000</td>\n",
       "      <td>1.000000</td>\n",
       "      <td>0.972648</td>\n",
       "    </tr>\n",
       "    <tr>\n",
       "      <th>p27</th>\n",
       "      <td>0.972648</td>\n",
       "      <td>1.000000</td>\n",
       "      <td>1.000000</td>\n",
       "      <td>0.001991</td>\n",
       "      <td>0.008914</td>\n",
       "      <td>1.000000</td>\n",
       "      <td>1.000000</td>\n",
       "      <td>-1.000000</td>\n",
       "      <td>1.000000</td>\n",
       "    </tr>\n",
       "    <tr>\n",
       "      <th>p28</th>\n",
       "      <td>0.224214</td>\n",
       "      <td>0.878337</td>\n",
       "      <td>0.381805</td>\n",
       "      <td>0.000066</td>\n",
       "      <td>0.000539</td>\n",
       "      <td>0.452906</td>\n",
       "      <td>0.972648</td>\n",
       "      <td>1.000000</td>\n",
       "      <td>-1.000000</td>\n",
       "    </tr>\n",
       "  </tbody>\n",
       "</table>\n",
       "</div>"
      ],
      "text/plain": [
       "          p07       p09       p12       p15       p18       p21       p25  \\\n",
       "p07 -1.000000  1.000000  1.000000  0.538290  0.918789  1.000000  1.000000   \n",
       "p09  1.000000 -1.000000  1.000000  0.068986  0.195367  1.000000  1.000000   \n",
       "p12  1.000000  1.000000 -1.000000  0.452359  0.792575  1.000000  1.000000   \n",
       "p15  0.538290  0.068986  0.452359 -1.000000  1.000000  0.048477  0.178143   \n",
       "p18  0.918789  0.195367  0.792575  1.000000 -1.000000  0.178143  0.357057   \n",
       "p21  1.000000  1.000000  1.000000  0.048477  0.178143 -1.000000  1.000000   \n",
       "p25  1.000000  1.000000  1.000000  0.178143  0.357057  1.000000 -1.000000   \n",
       "p27  0.972648  1.000000  1.000000  0.001991  0.008914  1.000000  1.000000   \n",
       "p28  0.224214  0.878337  0.381805  0.000066  0.000539  0.452906  0.972648   \n",
       "\n",
       "          p27       p28  \n",
       "p07  0.972648  0.224214  \n",
       "p09  1.000000  0.878337  \n",
       "p12  1.000000  0.381805  \n",
       "p15  0.001991  0.000066  \n",
       "p18  0.008914  0.000539  \n",
       "p21  1.000000  0.452906  \n",
       "p25  1.000000  0.972648  \n",
       "p27 -1.000000  1.000000  \n",
       "p28  1.000000 -1.000000  "
      ]
     },
     "execution_count": 32,
     "metadata": {},
     "output_type": "execute_result"
    }
   ],
   "source": [
    "sp.posthoc_conover(df, val_col='bTau', group_col='probe', p_adjust = 'holm')"
   ]
  },
  {
   "cell_type": "code",
   "execution_count": 40,
   "metadata": {},
   "outputs": [
    {
     "data": {
      "text/html": [
       "<div>\n",
       "<style scoped>\n",
       "    .dataframe tbody tr th:only-of-type {\n",
       "        vertical-align: middle;\n",
       "    }\n",
       "\n",
       "    .dataframe tbody tr th {\n",
       "        vertical-align: top;\n",
       "    }\n",
       "\n",
       "    .dataframe thead th {\n",
       "        text-align: right;\n",
       "    }\n",
       "</style>\n",
       "<table border=\"1\" class=\"dataframe\">\n",
       "  <thead>\n",
       "    <tr style=\"text-align: right;\">\n",
       "      <th></th>\n",
       "      <th>p07</th>\n",
       "      <th>p09</th>\n",
       "      <th>p12</th>\n",
       "      <th>p15</th>\n",
       "      <th>p18</th>\n",
       "      <th>p21</th>\n",
       "      <th>p25</th>\n",
       "      <th>p27</th>\n",
       "      <th>p28</th>\n",
       "    </tr>\n",
       "  </thead>\n",
       "  <tbody>\n",
       "    <tr>\n",
       "      <th>p07</th>\n",
       "      <td>-1.000000</td>\n",
       "      <td>1.000000</td>\n",
       "      <td>1.000000</td>\n",
       "      <td>0.880839</td>\n",
       "      <td>1.000000</td>\n",
       "      <td>1.000000</td>\n",
       "      <td>1.000000</td>\n",
       "      <td>1.000000</td>\n",
       "      <td>0.298952</td>\n",
       "    </tr>\n",
       "    <tr>\n",
       "      <th>p09</th>\n",
       "      <td>1.000000</td>\n",
       "      <td>-1.000000</td>\n",
       "      <td>1.000000</td>\n",
       "      <td>0.080113</td>\n",
       "      <td>0.251186</td>\n",
       "      <td>1.000000</td>\n",
       "      <td>1.000000</td>\n",
       "      <td>1.000000</td>\n",
       "      <td>1.000000</td>\n",
       "    </tr>\n",
       "    <tr>\n",
       "      <th>p12</th>\n",
       "      <td>1.000000</td>\n",
       "      <td>1.000000</td>\n",
       "      <td>-1.000000</td>\n",
       "      <td>0.678538</td>\n",
       "      <td>1.000000</td>\n",
       "      <td>1.000000</td>\n",
       "      <td>1.000000</td>\n",
       "      <td>1.000000</td>\n",
       "      <td>0.549799</td>\n",
       "    </tr>\n",
       "    <tr>\n",
       "      <th>p15</th>\n",
       "      <td>0.880839</td>\n",
       "      <td>0.080113</td>\n",
       "      <td>0.678538</td>\n",
       "      <td>-1.000000</td>\n",
       "      <td>1.000000</td>\n",
       "      <td>0.054537</td>\n",
       "      <td>0.213772</td>\n",
       "      <td>0.002108</td>\n",
       "      <td>0.000066</td>\n",
       "    </tr>\n",
       "    <tr>\n",
       "      <th>p18</th>\n",
       "      <td>1.000000</td>\n",
       "      <td>0.251186</td>\n",
       "      <td>1.000000</td>\n",
       "      <td>1.000000</td>\n",
       "      <td>-1.000000</td>\n",
       "      <td>0.220066</td>\n",
       "      <td>0.494386</td>\n",
       "      <td>0.009725</td>\n",
       "      <td>0.000554</td>\n",
       "    </tr>\n",
       "    <tr>\n",
       "      <th>p21</th>\n",
       "      <td>1.000000</td>\n",
       "      <td>1.000000</td>\n",
       "      <td>1.000000</td>\n",
       "      <td>0.054537</td>\n",
       "      <td>0.220066</td>\n",
       "      <td>-1.000000</td>\n",
       "      <td>1.000000</td>\n",
       "      <td>1.000000</td>\n",
       "      <td>0.708897</td>\n",
       "    </tr>\n",
       "    <tr>\n",
       "      <th>p25</th>\n",
       "      <td>1.000000</td>\n",
       "      <td>1.000000</td>\n",
       "      <td>1.000000</td>\n",
       "      <td>0.213772</td>\n",
       "      <td>0.494386</td>\n",
       "      <td>1.000000</td>\n",
       "      <td>-1.000000</td>\n",
       "      <td>1.000000</td>\n",
       "      <td>1.000000</td>\n",
       "    </tr>\n",
       "    <tr>\n",
       "      <th>p27</th>\n",
       "      <td>1.000000</td>\n",
       "      <td>1.000000</td>\n",
       "      <td>1.000000</td>\n",
       "      <td>0.002108</td>\n",
       "      <td>0.009725</td>\n",
       "      <td>1.000000</td>\n",
       "      <td>1.000000</td>\n",
       "      <td>-1.000000</td>\n",
       "      <td>1.000000</td>\n",
       "    </tr>\n",
       "    <tr>\n",
       "      <th>p28</th>\n",
       "      <td>0.298952</td>\n",
       "      <td>1.000000</td>\n",
       "      <td>0.549799</td>\n",
       "      <td>0.000066</td>\n",
       "      <td>0.000554</td>\n",
       "      <td>0.708897</td>\n",
       "      <td>1.000000</td>\n",
       "      <td>1.000000</td>\n",
       "      <td>-1.000000</td>\n",
       "    </tr>\n",
       "  </tbody>\n",
       "</table>\n",
       "</div>"
      ],
      "text/plain": [
       "          p07       p09       p12       p15       p18       p21       p25  \\\n",
       "p07 -1.000000  1.000000  1.000000  0.880839  1.000000  1.000000  1.000000   \n",
       "p09  1.000000 -1.000000  1.000000  0.080113  0.251186  1.000000  1.000000   \n",
       "p12  1.000000  1.000000 -1.000000  0.678538  1.000000  1.000000  1.000000   \n",
       "p15  0.880839  0.080113  0.678538 -1.000000  1.000000  0.054537  0.213772   \n",
       "p18  1.000000  0.251186  1.000000  1.000000 -1.000000  0.220066  0.494386   \n",
       "p21  1.000000  1.000000  1.000000  0.054537  0.220066 -1.000000  1.000000   \n",
       "p25  1.000000  1.000000  1.000000  0.213772  0.494386  1.000000 -1.000000   \n",
       "p27  1.000000  1.000000  1.000000  0.002108  0.009725  1.000000  1.000000   \n",
       "p28  0.298952  1.000000  0.549799  0.000066  0.000554  0.708897  1.000000   \n",
       "\n",
       "          p27       p28  \n",
       "p07  1.000000  0.298952  \n",
       "p09  1.000000  1.000000  \n",
       "p12  1.000000  0.549799  \n",
       "p15  0.002108  0.000066  \n",
       "p18  0.009725  0.000554  \n",
       "p21  1.000000  0.708897  \n",
       "p25  1.000000  1.000000  \n",
       "p27 -1.000000  1.000000  \n",
       "p28  1.000000 -1.000000  "
      ]
     },
     "execution_count": 40,
     "metadata": {},
     "output_type": "execute_result"
    }
   ],
   "source": [
    "sp.posthoc_conover(df, val_col='bTau', group_col='probe', p_adjust = 'bonferroni')"
   ]
  },
  {
   "cell_type": "code",
   "execution_count": 241,
   "metadata": {},
   "outputs": [],
   "source": [
    "# color variant 1\n",
    "heatmap_args = {'linewidths': 0.25, 'linecolor': '0.5', 'clip_on': False, 'square': True, 'cbar_ax_bbox': [0.80, 0.35, 0.04, 0.3]}"
   ]
  },
  {
   "cell_type": "code",
   "execution_count": 254,
   "metadata": {},
   "outputs": [],
   "source": [
    "# color variant 2\n",
    "cmap = ['1', '#fb6a4a',  '#08306b',  '#4292c6', '#c6dbef']\n",
    "heatmap_args = {'cmap': cmap, 'linewidths': 0.25, 'linecolor': '0.5', 'clip_on': False, 'square': True, 'cbar_ax_bbox': [0.80, 0.35, 0.04, 0.3]}"
   ]
  },
  {
   "cell_type": "code",
   "execution_count": 255,
   "metadata": {},
   "outputs": [
    {
     "data": {
      "text/plain": [
       "(<matplotlib.axes._subplots.AxesSubplot at 0x21608a16a58>,\n",
       " <matplotlib.colorbar.ColorbarBase at 0x21608a907f0>)"
      ]
     },
     "execution_count": 255,
     "metadata": {},
     "output_type": "execute_result"
    },
    {
     "data": {
      "image/png": "[encoded data removed]",
      "text/plain": [
       "<Figure size 432x288 with 2 Axes>"
      ]
     },
     "metadata": {
      "needs_background": "light"
     },
     "output_type": "display_data"
    }
   ],
   "source": [
    "pc = sp.posthoc_conover(df, val_col='bTau', group_col='probe', p_adjust='fdr_bh')\n",
    "sp.sign_plot(pc, **heatmap_args)"
   ]
  },
  {
   "cell_type": "code",
   "execution_count": 257,
   "metadata": {},
   "outputs": [
    {
     "data": {
      "text/plain": [
       "(<matplotlib.axes._subplots.AxesSubplot at 0x21608b550f0>,\n",
       " <matplotlib.colorbar.ColorbarBase at 0x21608bc6e10>)"
      ]
     },
     "execution_count": 257,
     "metadata": {},
     "output_type": "execute_result"
    },
    {
     "data": {
      "image/png": "[encoded data removed]",
      "text/plain": [
       "<Figure size 432x288 with 2 Axes>"
      ]
     },
     "metadata": {
      "needs_background": "light"
     },
     "output_type": "display_data"
    }
   ],
   "source": [
    "pc = sp.posthoc_conover(df, val_col='Rval', group_col='probe', p_adjust='fdr_bh')\n",
    "sp.sign_plot(pc, **heatmap_args)"
   ]
  },
  {
   "cell_type": "code",
   "execution_count": 258,
   "metadata": {},
   "outputs": [
    {
     "data": {
      "text/plain": [
       "(<matplotlib.axes._subplots.AxesSubplot at 0x21608beeac8>,\n",
       " <matplotlib.colorbar.ColorbarBase at 0x21609c36940>)"
      ]
     },
     "execution_count": 258,
     "metadata": {},
     "output_type": "execute_result"
    },
    {
     "data": {
      "image/png": "[encoded data removed]",
      "text/plain": [
       "<Figure size 432x288 with 2 Axes>"
      ]
     },
     "metadata": {
      "needs_background": "light"
     },
     "output_type": "display_data"
    }
   ],
   "source": [
    "pc = sp.posthoc_conover(df, val_col='Rs', group_col='probe', p_adjust='fdr_bh')\n",
    "sp.sign_plot(pc, **heatmap_args)"
   ]
  },
  {
   "cell_type": "code",
   "execution_count": 259,
   "metadata": {},
   "outputs": [
    {
     "data": {
      "text/plain": [
       "(<matplotlib.axes._subplots.AxesSubplot at 0x21609c5c6d8>,\n",
       " <matplotlib.colorbar.ColorbarBase at 0x21609cd8470>)"
      ]
     },
     "execution_count": 259,
     "metadata": {},
     "output_type": "execute_result"
    },
    {
     "data": {
      "image/png": "[encoded data removed]",
      "text/plain": [
       "<Figure size 432x288 with 2 Axes>"
      ]
     },
     "metadata": {
      "needs_background": "light"
     },
     "output_type": "display_data"
    }
   ],
   "source": [
    "pc = sp.posthoc_conover(df, val_col='tM1', group_col='probe', p_adjust='fdr_bh')\n",
    "sp.sign_plot(pc, **heatmap_args)"
   ]
  },
  {
   "cell_type": "code",
   "execution_count": 260,
   "metadata": {},
   "outputs": [
    {
     "data": {
      "text/plain": [
       "(<matplotlib.axes._subplots.AxesSubplot at 0x21609cfb278>,\n",
       " <matplotlib.colorbar.ColorbarBase at 0x21609d6ef60>)"
      ]
     },
     "execution_count": 260,
     "metadata": {},
     "output_type": "execute_result"
    },
    {
     "data": {
      "image/png": "[encoded data removed]",
      "text/plain": [
       "<Figure size 432x288 with 2 Axes>"
      ]
     },
     "metadata": {
      "needs_background": "light"
     },
     "output_type": "display_data"
    }
   ],
   "source": [
    "pc = sp.posthoc_conover(df, val_col='tM2', group_col='probe', p_adjust='fdr_bh')\n",
    "sp.sign_plot(pc, **heatmap_args)"
   ]
  },
  {
   "cell_type": "code",
   "execution_count": 261,
   "metadata": {},
   "outputs": [
    {
     "data": {
      "text/plain": [
       "(<matplotlib.axes._subplots.AxesSubplot at 0x21609d93cc0>,\n",
       " <matplotlib.colorbar.ColorbarBase at 0x21609e03b00>)"
      ]
     },
     "execution_count": 261,
     "metadata": {},
     "output_type": "execute_result"
    },
    {
     "data": {
      "image/png": "[encoded data removed]",
      "text/plain": [
       "<Figure size 432x288 with 2 Axes>"
      ]
     },
     "metadata": {
      "needs_background": "light"
     },
     "output_type": "display_data"
    }
   ],
   "source": [
    "pc = sp.posthoc_conover(df, val_col='bTau', group_col='probe', p_adjust = 'bonferroni')\n",
    "sp.sign_plot(pc, **heatmap_args)"
   ]
  },
  {
   "cell_type": "code",
   "execution_count": 262,
   "metadata": {},
   "outputs": [
    {
     "data": {
      "text/plain": [
       "(<matplotlib.axes._subplots.AxesSubplot at 0x21609e2b7f0>,\n",
       " <matplotlib.colorbar.ColorbarBase at 0x21609ea7588>)"
      ]
     },
     "execution_count": 262,
     "metadata": {},
     "output_type": "execute_result"
    },
    {
     "data": {
      "image/png": "[encoded data removed]",
      "text/plain": [
       "<Figure size 432x288 with 2 Axes>"
      ]
     },
     "metadata": {
      "needs_background": "light"
     },
     "output_type": "display_data"
    }
   ],
   "source": [
    "pc = sp.posthoc_conover(df, val_col='Rval', group_col='probe', p_adjust = 'bonferroni')\n",
    "sp.sign_plot(pc, **heatmap_args)"
   ]
  },
  {
   "cell_type": "code",
   "execution_count": 263,
   "metadata": {},
   "outputs": [
    {
     "data": {
      "text/plain": [
       "(<matplotlib.axes._subplots.AxesSubplot at 0x21609eca390>,\n",
       " <matplotlib.colorbar.ColorbarBase at 0x21609f450b8>)"
      ]
     },
     "execution_count": 263,
     "metadata": {},
     "output_type": "execute_result"
    },
    {
     "data": {
      "image/png": "[encoded data removed]",
      "text/plain": [
       "<Figure size 432x288 with 2 Axes>"
      ]
     },
     "metadata": {
      "needs_background": "light"
     },
     "output_type": "display_data"
    }
   ],
   "source": [
    "pc = sp.posthoc_conover(df, val_col='Rs', group_col='probe', p_adjust = 'bonferroni')\n",
    "sp.sign_plot(pc, **heatmap_args)"
   ]
  },
  {
   "cell_type": "code",
   "execution_count": 264,
   "metadata": {},
   "outputs": [
    {
     "data": {
      "text/plain": [
       "(<matplotlib.axes._subplots.AxesSubplot at 0x21609f60e10>,\n",
       " <matplotlib.colorbar.ColorbarBase at 0x21609fddba8>)"
      ]
     },
     "execution_count": 264,
     "metadata": {},
     "output_type": "execute_result"
    },
    {
     "data": {
      "image/png": "[encoded data removed]",
      "text/plain": [
       "<Figure size 432x288 with 2 Axes>"
      ]
     },
     "metadata": {
      "needs_background": "light"
     },
     "output_type": "display_data"
    }
   ],
   "source": [
    "pc = sp.posthoc_conover(df, val_col='tM1', group_col='probe', p_adjust = 'bonferroni')\n",
    "sp.sign_plot(pc, **heatmap_args)"
   ]
  },
  {
   "cell_type": "code",
   "execution_count": 265,
   "metadata": {},
   "outputs": [
    {
     "data": {
      "text/plain": [
       "(<matplotlib.axes._subplots.AxesSubplot at 0x2160a001978>,\n",
       " <matplotlib.colorbar.ColorbarBase at 0x2160a07b6d8>)"
      ]
     },
     "execution_count": 265,
     "metadata": {},
     "output_type": "execute_result"
    },
    {
     "data": {
      "image/png": "[encoded data removed]",
      "text/plain": [
       "<Figure size 432x288 with 2 Axes>"
      ]
     },
     "metadata": {
      "needs_background": "light"
     },
     "output_type": "display_data"
    }
   ],
   "source": [
    "pc = sp.posthoc_conover(df, val_col='tM2', group_col='probe', p_adjust = 'bonferroni')\n",
    "sp.sign_plot(pc, **heatmap_args)"
   ]
  },
  {
   "cell_type": "code",
   "execution_count": 429,
   "metadata": {},
   "outputs": [],
   "source": [
    "tmrm = pd.read_csv('~/Book333.csv')"
   ]
  },
  {
   "cell_type": "code",
   "execution_count": 312,
   "metadata": {},
   "outputs": [],
   "source": [
    "tmrm = pd.read_csv('~/Book333-cont.csv')"
   ]
  },
  {
   "cell_type": "code",
   "execution_count": 430,
   "metadata": {
    "scrolled": false
   },
   "outputs": [
    {
     "data": {
      "text/html": [
       "<div>\n",
       "<style scoped>\n",
       "    .dataframe tbody tr th:only-of-type {\n",
       "        vertical-align: middle;\n",
       "    }\n",
       "\n",
       "    .dataframe tbody tr th {\n",
       "        vertical-align: top;\n",
       "    }\n",
       "\n",
       "    .dataframe thead th {\n",
       "        text-align: right;\n",
       "    }\n",
       "</style>\n",
       "<table border=\"1\" class=\"dataframe\">\n",
       "  <thead>\n",
       "    <tr style=\"text-align: right;\">\n",
       "      <th></th>\n",
       "      <th>TMRM</th>\n",
       "      <th>substance</th>\n",
       "    </tr>\n",
       "  </thead>\n",
       "  <tbody>\n",
       "    <tr>\n",
       "      <th>0</th>\n",
       "      <td>274.1</td>\n",
       "      <td>-Ctrl</td>\n",
       "    </tr>\n",
       "    <tr>\n",
       "      <th>1</th>\n",
       "      <td>537.1</td>\n",
       "      <td>-Ctrl</td>\n",
       "    </tr>\n",
       "    <tr>\n",
       "      <th>2</th>\n",
       "      <td>274.3</td>\n",
       "      <td>-Ctrl</td>\n",
       "    </tr>\n",
       "    <tr>\n",
       "      <th>3</th>\n",
       "      <td>307.9</td>\n",
       "      <td>-Ctrl</td>\n",
       "    </tr>\n",
       "    <tr>\n",
       "      <th>4</th>\n",
       "      <td>305.0</td>\n",
       "      <td>-Ctrl</td>\n",
       "    </tr>\n",
       "  </tbody>\n",
       "</table>\n",
       "</div>"
      ],
      "text/plain": [
       "    TMRM substance\n",
       "0  274.1     -Ctrl\n",
       "1  537.1     -Ctrl\n",
       "2  274.3     -Ctrl\n",
       "3  307.9     -Ctrl\n",
       "4  305.0     -Ctrl"
      ]
     },
     "execution_count": 430,
     "metadata": {},
     "output_type": "execute_result"
    }
   ],
   "source": [
    "tmrm.head()"
   ]
  },
  {
   "cell_type": "code",
   "execution_count": 431,
   "metadata": {},
   "outputs": [
    {
     "data": {
      "text/html": [
       "<div>\n",
       "<style scoped>\n",
       "    .dataframe tbody tr th:only-of-type {\n",
       "        vertical-align: middle;\n",
       "    }\n",
       "\n",
       "    .dataframe tbody tr th {\n",
       "        vertical-align: top;\n",
       "    }\n",
       "\n",
       "    .dataframe thead th {\n",
       "        text-align: right;\n",
       "    }\n",
       "</style>\n",
       "<table border=\"1\" class=\"dataframe\">\n",
       "  <thead>\n",
       "    <tr style=\"text-align: right;\">\n",
       "      <th></th>\n",
       "      <th>TMRM</th>\n",
       "    </tr>\n",
       "    <tr>\n",
       "      <th>substance</th>\n",
       "      <th></th>\n",
       "    </tr>\n",
       "  </thead>\n",
       "  <tbody>\n",
       "    <tr>\n",
       "      <th>-Ctrl</th>\n",
       "      <td>3.549083e+02</td>\n",
       "    </tr>\n",
       "    <tr>\n",
       "      <th>Ctrl_DMEM</th>\n",
       "      <td>8.508598e+05</td>\n",
       "    </tr>\n",
       "    <tr>\n",
       "      <th>Ctrl_PBS</th>\n",
       "      <td>9.087619e+05</td>\n",
       "    </tr>\n",
       "    <tr>\n",
       "      <th>N_0.1%</th>\n",
       "      <td>1.044207e+06</td>\n",
       "    </tr>\n",
       "    <tr>\n",
       "      <th>N_1%</th>\n",
       "      <td>1.017992e+06</td>\n",
       "    </tr>\n",
       "    <tr>\n",
       "      <th>N_10%</th>\n",
       "      <td>9.627677e+05</td>\n",
       "    </tr>\n",
       "    <tr>\n",
       "      <th>U_1%</th>\n",
       "      <td>6.877132e+05</td>\n",
       "    </tr>\n",
       "    <tr>\n",
       "      <th>U_10%</th>\n",
       "      <td>7.390095e+05</td>\n",
       "    </tr>\n",
       "  </tbody>\n",
       "</table>\n",
       "</div>"
      ],
      "text/plain": [
       "                   TMRM\n",
       "substance              \n",
       "-Ctrl      3.549083e+02\n",
       "Ctrl_DMEM  8.508598e+05\n",
       "Ctrl_PBS   9.087619e+05\n",
       "N_0.1%     1.044207e+06\n",
       "N_1%       1.017992e+06\n",
       "N_10%      9.627677e+05\n",
       "U_1%       6.877132e+05\n",
       "U_10%      7.390095e+05"
      ]
     },
     "execution_count": 431,
     "metadata": {},
     "output_type": "execute_result"
    }
   ],
   "source": [
    "tmrm.groupby('substance').aggregate({'TMRM' : 'mean'})"
   ]
  },
  {
   "cell_type": "code",
   "execution_count": 499,
   "metadata": {},
   "outputs": [],
   "source": [
    "df = tmrm"
   ]
  },
  {
   "cell_type": "code",
   "execution_count": 433,
   "metadata": {},
   "outputs": [
    {
     "name": "stdout",
     "output_type": "stream",
     "text": [
      "                df        sum_sq       mean_sq          F        PR(>F)\n",
      "C(substance)   7.0  8.929269e+12  1.275610e+12  42.286247  3.533564e-22\n",
      "Residual      67.0  2.021127e+12  3.016607e+10        NaN           NaN\n"
     ]
    }
   ],
   "source": [
    "lm = sfa.ols('TMRM ~ C(substance)', data=df).fit()\n",
    "anova = sa.stats.anova_lm(lm)\n",
    "print(anova)"
   ]
  },
  {
   "cell_type": "code",
   "execution_count": 434,
   "metadata": {},
   "outputs": [
    {
     "data": {
      "text/html": [
       "<div>\n",
       "<style scoped>\n",
       "    .dataframe tbody tr th:only-of-type {\n",
       "        vertical-align: middle;\n",
       "    }\n",
       "\n",
       "    .dataframe tbody tr th {\n",
       "        vertical-align: top;\n",
       "    }\n",
       "\n",
       "    .dataframe thead th {\n",
       "        text-align: right;\n",
       "    }\n",
       "</style>\n",
       "<table border=\"1\" class=\"dataframe\">\n",
       "  <thead>\n",
       "    <tr style=\"text-align: right;\">\n",
       "      <th></th>\n",
       "      <th>-Ctrl</th>\n",
       "      <th>Ctrl_DMEM</th>\n",
       "      <th>Ctrl_PBS</th>\n",
       "      <th>N_0.1%</th>\n",
       "      <th>N_1%</th>\n",
       "      <th>N_10%</th>\n",
       "      <th>U_1%</th>\n",
       "      <th>U_10%</th>\n",
       "    </tr>\n",
       "  </thead>\n",
       "  <tbody>\n",
       "    <tr>\n",
       "      <th>-Ctrl</th>\n",
       "      <td>-1.000000e+00</td>\n",
       "      <td>1.081572e-09</td>\n",
       "      <td>4.984032e-08</td>\n",
       "      <td>2.220297e-09</td>\n",
       "      <td>3.249656e-15</td>\n",
       "      <td>4.336674e-17</td>\n",
       "      <td>8.331541e-22</td>\n",
       "      <td>6.525932e-25</td>\n",
       "    </tr>\n",
       "    <tr>\n",
       "      <th>Ctrl_DMEM</th>\n",
       "      <td>1.081572e-09</td>\n",
       "      <td>-1.000000e+00</td>\n",
       "      <td>1.000000e+00</td>\n",
       "      <td>1.000000e+00</td>\n",
       "      <td>8.554789e-01</td>\n",
       "      <td>1.000000e+00</td>\n",
       "      <td>6.217659e-01</td>\n",
       "      <td>1.000000e+00</td>\n",
       "    </tr>\n",
       "    <tr>\n",
       "      <th>Ctrl_PBS</th>\n",
       "      <td>4.984032e-08</td>\n",
       "      <td>1.000000e+00</td>\n",
       "      <td>-1.000000e+00</td>\n",
       "      <td>1.000000e+00</td>\n",
       "      <td>1.000000e+00</td>\n",
       "      <td>1.000000e+00</td>\n",
       "      <td>6.217659e-01</td>\n",
       "      <td>1.000000e+00</td>\n",
       "    </tr>\n",
       "    <tr>\n",
       "      <th>N_0.1%</th>\n",
       "      <td>2.220297e-09</td>\n",
       "      <td>1.000000e+00</td>\n",
       "      <td>1.000000e+00</td>\n",
       "      <td>-1.000000e+00</td>\n",
       "      <td>1.000000e+00</td>\n",
       "      <td>1.000000e+00</td>\n",
       "      <td>3.348093e-02</td>\n",
       "      <td>9.393813e-02</td>\n",
       "    </tr>\n",
       "    <tr>\n",
       "      <th>N_1%</th>\n",
       "      <td>3.249656e-15</td>\n",
       "      <td>8.554789e-01</td>\n",
       "      <td>1.000000e+00</td>\n",
       "      <td>1.000000e+00</td>\n",
       "      <td>-1.000000e+00</td>\n",
       "      <td>1.000000e+00</td>\n",
       "      <td>4.229287e-05</td>\n",
       "      <td>2.288756e-04</td>\n",
       "    </tr>\n",
       "    <tr>\n",
       "      <th>N_10%</th>\n",
       "      <td>4.336674e-17</td>\n",
       "      <td>1.000000e+00</td>\n",
       "      <td>1.000000e+00</td>\n",
       "      <td>1.000000e+00</td>\n",
       "      <td>1.000000e+00</td>\n",
       "      <td>-1.000000e+00</td>\n",
       "      <td>1.715499e-05</td>\n",
       "      <td>1.326949e-04</td>\n",
       "    </tr>\n",
       "    <tr>\n",
       "      <th>U_1%</th>\n",
       "      <td>8.331541e-22</td>\n",
       "      <td>6.217659e-01</td>\n",
       "      <td>6.217659e-01</td>\n",
       "      <td>3.348093e-02</td>\n",
       "      <td>4.229287e-05</td>\n",
       "      <td>1.715499e-05</td>\n",
       "      <td>-1.000000e+00</td>\n",
       "      <td>9.516961e-02</td>\n",
       "    </tr>\n",
       "    <tr>\n",
       "      <th>U_10%</th>\n",
       "      <td>6.525932e-25</td>\n",
       "      <td>1.000000e+00</td>\n",
       "      <td>1.000000e+00</td>\n",
       "      <td>9.393813e-02</td>\n",
       "      <td>2.288756e-04</td>\n",
       "      <td>1.326949e-04</td>\n",
       "      <td>9.516961e-02</td>\n",
       "      <td>-1.000000e+00</td>\n",
       "    </tr>\n",
       "  </tbody>\n",
       "</table>\n",
       "</div>"
      ],
      "text/plain": [
       "                  -Ctrl     Ctrl_DMEM      Ctrl_PBS       N_0.1%   \\\n",
       "-Ctrl     -1.000000e+00  1.081572e-09  4.984032e-08  2.220297e-09   \n",
       "Ctrl_DMEM  1.081572e-09 -1.000000e+00  1.000000e+00  1.000000e+00   \n",
       "Ctrl_PBS   4.984032e-08  1.000000e+00 -1.000000e+00  1.000000e+00   \n",
       "N_0.1%     2.220297e-09  1.000000e+00  1.000000e+00 -1.000000e+00   \n",
       "N_1%       3.249656e-15  8.554789e-01  1.000000e+00  1.000000e+00   \n",
       "N_10%      4.336674e-17  1.000000e+00  1.000000e+00  1.000000e+00   \n",
       "U_1%       8.331541e-22  6.217659e-01  6.217659e-01  3.348093e-02   \n",
       "U_10%      6.525932e-25  1.000000e+00  1.000000e+00  9.393813e-02   \n",
       "\n",
       "                  N_1%         N_10%           U_1%         U_10%  \n",
       "-Ctrl      3.249656e-15  4.336674e-17  8.331541e-22  6.525932e-25  \n",
       "Ctrl_DMEM  8.554789e-01  1.000000e+00  6.217659e-01  1.000000e+00  \n",
       "Ctrl_PBS   1.000000e+00  1.000000e+00  6.217659e-01  1.000000e+00  \n",
       "N_0.1%     1.000000e+00  1.000000e+00  3.348093e-02  9.393813e-02  \n",
       "N_1%      -1.000000e+00  1.000000e+00  4.229287e-05  2.288756e-04  \n",
       "N_10%      1.000000e+00 -1.000000e+00  1.715499e-05  1.326949e-04  \n",
       "U_1%       4.229287e-05  1.715499e-05 -1.000000e+00  9.516961e-02  \n",
       "U_10%      2.288756e-04  1.326949e-04  9.516961e-02 -1.000000e+00  "
      ]
     },
     "execution_count": 434,
     "metadata": {},
     "output_type": "execute_result"
    }
   ],
   "source": [
    "sp.posthoc_ttest(df, val_col='TMRM', group_col='substance', p_adjust='holm')"
   ]
  },
  {
   "cell_type": "code",
   "execution_count": 435,
   "metadata": {},
   "outputs": [
    {
     "data": {
      "text/plain": [
       "1.899253802016037e-07"
      ]
     },
     "execution_count": 435,
     "metadata": {},
     "output_type": "execute_result"
    }
   ],
   "source": [
    "data = [df.loc[ids, 'TMRM'].values for ids in df.groupby('substance').groups.values()]\n",
    "H, p = ss.kruskal(*data)\n",
    "p"
   ]
  },
  {
   "cell_type": "code",
   "execution_count": 436,
   "metadata": {},
   "outputs": [
    {
     "data": {
      "text/html": [
       "<div>\n",
       "<style scoped>\n",
       "    .dataframe tbody tr th:only-of-type {\n",
       "        vertical-align: middle;\n",
       "    }\n",
       "\n",
       "    .dataframe tbody tr th {\n",
       "        vertical-align: top;\n",
       "    }\n",
       "\n",
       "    .dataframe thead th {\n",
       "        text-align: right;\n",
       "    }\n",
       "</style>\n",
       "<table border=\"1\" class=\"dataframe\">\n",
       "  <thead>\n",
       "    <tr style=\"text-align: right;\">\n",
       "      <th></th>\n",
       "      <th>-Ctrl</th>\n",
       "      <th>Ctrl_DMEM</th>\n",
       "      <th>Ctrl_PBS</th>\n",
       "      <th>N_0.1%</th>\n",
       "      <th>N_1%</th>\n",
       "      <th>N_10%</th>\n",
       "      <th>U_1%</th>\n",
       "      <th>U_10%</th>\n",
       "    </tr>\n",
       "  </thead>\n",
       "  <tbody>\n",
       "    <tr>\n",
       "      <th>-Ctrl</th>\n",
       "      <td>-1.000000e+00</td>\n",
       "      <td>0.000105</td>\n",
       "      <td>0.000005</td>\n",
       "      <td>3.637458e-08</td>\n",
       "      <td>6.036714e-10</td>\n",
       "      <td>1.432701e-08</td>\n",
       "      <td>0.160331</td>\n",
       "      <td>0.000145</td>\n",
       "    </tr>\n",
       "    <tr>\n",
       "      <th>Ctrl_DMEM</th>\n",
       "      <td>1.047967e-04</td>\n",
       "      <td>-1.000000</td>\n",
       "      <td>1.000000</td>\n",
       "      <td>1.000000e+00</td>\n",
       "      <td>1.908515e-01</td>\n",
       "      <td>1.000000e+00</td>\n",
       "      <td>1.000000</td>\n",
       "      <td>1.000000</td>\n",
       "    </tr>\n",
       "    <tr>\n",
       "      <th>Ctrl_PBS</th>\n",
       "      <td>5.042285e-06</td>\n",
       "      <td>1.000000</td>\n",
       "      <td>-1.000000</td>\n",
       "      <td>1.000000e+00</td>\n",
       "      <td>1.000000e+00</td>\n",
       "      <td>1.000000e+00</td>\n",
       "      <td>0.199591</td>\n",
       "      <td>1.000000</td>\n",
       "    </tr>\n",
       "    <tr>\n",
       "      <th>N_0.1%</th>\n",
       "      <td>3.637458e-08</td>\n",
       "      <td>1.000000</td>\n",
       "      <td>1.000000</td>\n",
       "      <td>-1.000000e+00</td>\n",
       "      <td>1.000000e+00</td>\n",
       "      <td>1.000000e+00</td>\n",
       "      <td>0.006053</td>\n",
       "      <td>1.000000</td>\n",
       "    </tr>\n",
       "    <tr>\n",
       "      <th>N_1%</th>\n",
       "      <td>6.036714e-10</td>\n",
       "      <td>0.190851</td>\n",
       "      <td>1.000000</td>\n",
       "      <td>1.000000e+00</td>\n",
       "      <td>-1.000000e+00</td>\n",
       "      <td>1.000000e+00</td>\n",
       "      <td>0.000225</td>\n",
       "      <td>0.152199</td>\n",
       "    </tr>\n",
       "    <tr>\n",
       "      <th>N_10%</th>\n",
       "      <td>1.432701e-08</td>\n",
       "      <td>1.000000</td>\n",
       "      <td>1.000000</td>\n",
       "      <td>1.000000e+00</td>\n",
       "      <td>1.000000e+00</td>\n",
       "      <td>-1.000000e+00</td>\n",
       "      <td>0.002945</td>\n",
       "      <td>0.964001</td>\n",
       "    </tr>\n",
       "    <tr>\n",
       "      <th>U_1%</th>\n",
       "      <td>1.603307e-01</td>\n",
       "      <td>1.000000</td>\n",
       "      <td>0.199591</td>\n",
       "      <td>6.053498e-03</td>\n",
       "      <td>2.253352e-04</td>\n",
       "      <td>2.944917e-03</td>\n",
       "      <td>-1.000000</td>\n",
       "      <td>1.000000</td>\n",
       "    </tr>\n",
       "    <tr>\n",
       "      <th>U_10%</th>\n",
       "      <td>1.453912e-04</td>\n",
       "      <td>1.000000</td>\n",
       "      <td>1.000000</td>\n",
       "      <td>1.000000e+00</td>\n",
       "      <td>1.521991e-01</td>\n",
       "      <td>9.640008e-01</td>\n",
       "      <td>1.000000</td>\n",
       "      <td>-1.000000</td>\n",
       "    </tr>\n",
       "  </tbody>\n",
       "</table>\n",
       "</div>"
      ],
      "text/plain": [
       "                  -Ctrl  Ctrl_DMEM  Ctrl_PBS       N_0.1%          N_1%   \\\n",
       "-Ctrl     -1.000000e+00   0.000105  0.000005  3.637458e-08  6.036714e-10   \n",
       "Ctrl_DMEM  1.047967e-04  -1.000000  1.000000  1.000000e+00  1.908515e-01   \n",
       "Ctrl_PBS   5.042285e-06   1.000000 -1.000000  1.000000e+00  1.000000e+00   \n",
       "N_0.1%     3.637458e-08   1.000000  1.000000 -1.000000e+00  1.000000e+00   \n",
       "N_1%       6.036714e-10   0.190851  1.000000  1.000000e+00 -1.000000e+00   \n",
       "N_10%      1.432701e-08   1.000000  1.000000  1.000000e+00  1.000000e+00   \n",
       "U_1%       1.603307e-01   1.000000  0.199591  6.053498e-03  2.253352e-04   \n",
       "U_10%      1.453912e-04   1.000000  1.000000  1.000000e+00  1.521991e-01   \n",
       "\n",
       "                 N_10%       U_1%     U_10%  \n",
       "-Ctrl      1.432701e-08  0.160331  0.000145  \n",
       "Ctrl_DMEM  1.000000e+00  1.000000  1.000000  \n",
       "Ctrl_PBS   1.000000e+00  0.199591  1.000000  \n",
       "N_0.1%     1.000000e+00  0.006053  1.000000  \n",
       "N_1%       1.000000e+00  0.000225  0.152199  \n",
       "N_10%     -1.000000e+00  0.002945  0.964001  \n",
       "U_1%       2.944917e-03 -1.000000  1.000000  \n",
       "U_10%      9.640008e-01  1.000000 -1.000000  "
      ]
     },
     "execution_count": 436,
     "metadata": {},
     "output_type": "execute_result"
    }
   ],
   "source": [
    "sp.posthoc_conover(df, val_col='TMRM', group_col='substance', p_adjust = 'bonferroni')"
   ]
  },
  {
   "cell_type": "code",
   "execution_count": 437,
   "metadata": {},
   "outputs": [],
   "source": [
    "# color variant 2\n",
    "cmap = ['1', '#fb6a4a',  '#08306b',  '#4292c6', '#c6dbef']\n",
    "heatmap_args = {'cmap': cmap, 'linewidths': 0.25, 'linecolor': '0.5', 'clip_on': False, 'square': True, 'cbar_ax_bbox': [0.80, 0.35, 0.04, 0.3]}"
   ]
  },
  {
   "cell_type": "code",
   "execution_count": 438,
   "metadata": {},
   "outputs": [
    {
     "data": {
      "text/plain": [
       "(<matplotlib.axes._subplots.AxesSubplot at 0x2160de4fda0>,\n",
       " <matplotlib.colorbar.ColorbarBase at 0x2160ee96a58>)"
      ]
     },
     "execution_count": 438,
     "metadata": {},
     "output_type": "execute_result"
    },
    {
     "data": {
      "image/png": "[encoded data removed]",
      "text/plain": [
       "<Figure size 432x288 with 2 Axes>"
      ]
     },
     "metadata": {
      "needs_background": "light"
     },
     "output_type": "display_data"
    }
   ],
   "source": [
    "pc = sp.posthoc_conover(df, val_col='TMRM', group_col='substance', p_adjust='fdr_bh')\n",
    "sp.sign_plot(pc, **heatmap_args)"
   ]
  },
  {
   "cell_type": "code",
   "execution_count": 500,
   "metadata": {},
   "outputs": [
    {
     "data": {
      "text/plain": [
       "(<matplotlib.axes._subplots.AxesSubplot at 0x21611105208>,\n",
       " <matplotlib.colorbar.ColorbarBase at 0x2161120f588>)"
      ]
     },
     "execution_count": 500,
     "metadata": {},
     "output_type": "execute_result"
    },
    {
     "data": {
      "image/png": "[encoded data removed]",
      "text/plain": [
       "<Figure size 432x288 with 2 Axes>"
      ]
     },
     "metadata": {
      "needs_background": "light"
     },
     "output_type": "display_data"
    }
   ],
   "source": [
    "sp.sign_plot(sp.posthoc_ttest(df.loc[df.substance != '-Ctrl'], val_col='TMRM', \n",
    "                              group_col='substance', \n",
    "                              p_adjust='holm'), \n",
    "             **heatmap_args)"
   ]
  },
  {
   "cell_type": "code",
   "execution_count": 439,
   "metadata": {
    "scrolled": true
   },
   "outputs": [
    {
     "data": {
      "text/plain": [
       "(<matplotlib.axes._subplots.AxesSubplot at 0x2160eebb080>,\n",
       " <matplotlib.colorbar.ColorbarBase at 0x2160ef2f4e0>)"
      ]
     },
     "execution_count": 439,
     "metadata": {},
     "output_type": "execute_result"
    },
    {
     "data": {
      "image/png": "[encoded data removed]",
      "text/plain": [
       "<Figure size 432x288 with 2 Axes>"
      ]
     },
     "metadata": {
      "needs_background": "light"
     },
     "output_type": "display_data"
    }
   ],
   "source": [
    "pc = sp.posthoc_conover(df, val_col='TMRM', group_col='substance', p_adjust='bonferroni')\n",
    "sp.sign_plot(pc, **heatmap_args)"
   ]
  },
  {
   "cell_type": "code",
   "execution_count": 440,
   "metadata": {},
   "outputs": [
    {
     "data": {
      "text/html": [
       "<div>\n",
       "<style scoped>\n",
       "    .dataframe tbody tr th:only-of-type {\n",
       "        vertical-align: middle;\n",
       "    }\n",
       "\n",
       "    .dataframe tbody tr th {\n",
       "        vertical-align: top;\n",
       "    }\n",
       "\n",
       "    .dataframe thead th {\n",
       "        text-align: right;\n",
       "    }\n",
       "</style>\n",
       "<table border=\"1\" class=\"dataframe\">\n",
       "  <thead>\n",
       "    <tr style=\"text-align: right;\">\n",
       "      <th></th>\n",
       "      <th>-Ctrl</th>\n",
       "      <th>Ctrl_DMEM</th>\n",
       "      <th>Ctrl_PBS</th>\n",
       "      <th>N_0.1%</th>\n",
       "      <th>N_1%</th>\n",
       "      <th>N_10%</th>\n",
       "      <th>U_1%</th>\n",
       "      <th>U_10%</th>\n",
       "    </tr>\n",
       "  </thead>\n",
       "  <tbody>\n",
       "    <tr>\n",
       "      <th>-Ctrl</th>\n",
       "      <td>-1.000000e+00</td>\n",
       "      <td>0.000105</td>\n",
       "      <td>0.000005</td>\n",
       "      <td>3.637458e-08</td>\n",
       "      <td>6.036714e-10</td>\n",
       "      <td>1.432701e-08</td>\n",
       "      <td>0.160331</td>\n",
       "      <td>0.000145</td>\n",
       "    </tr>\n",
       "    <tr>\n",
       "      <th>Ctrl_DMEM</th>\n",
       "      <td>1.047967e-04</td>\n",
       "      <td>-1.000000</td>\n",
       "      <td>1.000000</td>\n",
       "      <td>1.000000e+00</td>\n",
       "      <td>1.908515e-01</td>\n",
       "      <td>1.000000e+00</td>\n",
       "      <td>1.000000</td>\n",
       "      <td>1.000000</td>\n",
       "    </tr>\n",
       "    <tr>\n",
       "      <th>Ctrl_PBS</th>\n",
       "      <td>5.042285e-06</td>\n",
       "      <td>1.000000</td>\n",
       "      <td>-1.000000</td>\n",
       "      <td>1.000000e+00</td>\n",
       "      <td>1.000000e+00</td>\n",
       "      <td>1.000000e+00</td>\n",
       "      <td>0.199591</td>\n",
       "      <td>1.000000</td>\n",
       "    </tr>\n",
       "    <tr>\n",
       "      <th>N_0.1%</th>\n",
       "      <td>3.637458e-08</td>\n",
       "      <td>1.000000</td>\n",
       "      <td>1.000000</td>\n",
       "      <td>-1.000000e+00</td>\n",
       "      <td>1.000000e+00</td>\n",
       "      <td>1.000000e+00</td>\n",
       "      <td>0.006053</td>\n",
       "      <td>1.000000</td>\n",
       "    </tr>\n",
       "    <tr>\n",
       "      <th>N_1%</th>\n",
       "      <td>6.036714e-10</td>\n",
       "      <td>0.190851</td>\n",
       "      <td>1.000000</td>\n",
       "      <td>1.000000e+00</td>\n",
       "      <td>-1.000000e+00</td>\n",
       "      <td>1.000000e+00</td>\n",
       "      <td>0.000225</td>\n",
       "      <td>0.152199</td>\n",
       "    </tr>\n",
       "    <tr>\n",
       "      <th>N_10%</th>\n",
       "      <td>1.432701e-08</td>\n",
       "      <td>1.000000</td>\n",
       "      <td>1.000000</td>\n",
       "      <td>1.000000e+00</td>\n",
       "      <td>1.000000e+00</td>\n",
       "      <td>-1.000000e+00</td>\n",
       "      <td>0.002945</td>\n",
       "      <td>0.964001</td>\n",
       "    </tr>\n",
       "    <tr>\n",
       "      <th>U_1%</th>\n",
       "      <td>1.603307e-01</td>\n",
       "      <td>1.000000</td>\n",
       "      <td>0.199591</td>\n",
       "      <td>6.053498e-03</td>\n",
       "      <td>2.253352e-04</td>\n",
       "      <td>2.944917e-03</td>\n",
       "      <td>-1.000000</td>\n",
       "      <td>1.000000</td>\n",
       "    </tr>\n",
       "    <tr>\n",
       "      <th>U_10%</th>\n",
       "      <td>1.453912e-04</td>\n",
       "      <td>1.000000</td>\n",
       "      <td>1.000000</td>\n",
       "      <td>1.000000e+00</td>\n",
       "      <td>1.521991e-01</td>\n",
       "      <td>9.640008e-01</td>\n",
       "      <td>1.000000</td>\n",
       "      <td>-1.000000</td>\n",
       "    </tr>\n",
       "  </tbody>\n",
       "</table>\n",
       "</div>"
      ],
      "text/plain": [
       "                  -Ctrl  Ctrl_DMEM  Ctrl_PBS       N_0.1%          N_1%   \\\n",
       "-Ctrl     -1.000000e+00   0.000105  0.000005  3.637458e-08  6.036714e-10   \n",
       "Ctrl_DMEM  1.047967e-04  -1.000000  1.000000  1.000000e+00  1.908515e-01   \n",
       "Ctrl_PBS   5.042285e-06   1.000000 -1.000000  1.000000e+00  1.000000e+00   \n",
       "N_0.1%     3.637458e-08   1.000000  1.000000 -1.000000e+00  1.000000e+00   \n",
       "N_1%       6.036714e-10   0.190851  1.000000  1.000000e+00 -1.000000e+00   \n",
       "N_10%      1.432701e-08   1.000000  1.000000  1.000000e+00  1.000000e+00   \n",
       "U_1%       1.603307e-01   1.000000  0.199591  6.053498e-03  2.253352e-04   \n",
       "U_10%      1.453912e-04   1.000000  1.000000  1.000000e+00  1.521991e-01   \n",
       "\n",
       "                 N_10%       U_1%     U_10%  \n",
       "-Ctrl      1.432701e-08  0.160331  0.000145  \n",
       "Ctrl_DMEM  1.000000e+00  1.000000  1.000000  \n",
       "Ctrl_PBS   1.000000e+00  0.199591  1.000000  \n",
       "N_0.1%     1.000000e+00  0.006053  1.000000  \n",
       "N_1%       1.000000e+00  0.000225  0.152199  \n",
       "N_10%     -1.000000e+00  0.002945  0.964001  \n",
       "U_1%       2.944917e-03 -1.000000  1.000000  \n",
       "U_10%      9.640008e-01  1.000000 -1.000000  "
      ]
     },
     "execution_count": 440,
     "metadata": {},
     "output_type": "execute_result"
    }
   ],
   "source": [
    "sp.posthoc_conover(df, val_col='TMRM', group_col='substance', p_adjust='bonferroni')"
   ]
  },
  {
   "cell_type": "code",
   "execution_count": 441,
   "metadata": {},
   "outputs": [
    {
     "name": "stderr",
     "output_type": "stream",
     "text": [
      "c:\\python37\\lib\\site-packages\\scipy\\stats\\morestats.py:1680: UserWarning: approximate p-value will be computed by extrapolation\n",
      "  warnings.warn(\"approximate p-value will be computed by extrapolation\")\n",
      "c:\\python37\\lib\\site-packages\\scipy\\stats\\morestats.py:1680: UserWarning: approximate p-value will be computed by extrapolation\n",
      "  warnings.warn(\"approximate p-value will be computed by extrapolation\")\n",
      "c:\\python37\\lib\\site-packages\\scipy\\stats\\morestats.py:1680: UserWarning: approximate p-value will be computed by extrapolation\n",
      "  warnings.warn(\"approximate p-value will be computed by extrapolation\")\n",
      "c:\\python37\\lib\\site-packages\\scipy\\stats\\morestats.py:1680: UserWarning: approximate p-value will be computed by extrapolation\n",
      "  warnings.warn(\"approximate p-value will be computed by extrapolation\")\n",
      "c:\\python37\\lib\\site-packages\\scipy\\stats\\morestats.py:1680: UserWarning: approximate p-value will be computed by extrapolation\n",
      "  warnings.warn(\"approximate p-value will be computed by extrapolation\")\n",
      "c:\\python37\\lib\\site-packages\\scipy\\stats\\morestats.py:1680: UserWarning: approximate p-value will be computed by extrapolation\n",
      "  warnings.warn(\"approximate p-value will be computed by extrapolation\")\n",
      "c:\\python37\\lib\\site-packages\\scipy\\stats\\morestats.py:1680: UserWarning: approximate p-value will be computed by extrapolation\n",
      "  warnings.warn(\"approximate p-value will be computed by extrapolation\")\n",
      "c:\\python37\\lib\\site-packages\\scipy\\stats\\morestats.py:1680: UserWarning: approximate p-value will be computed by extrapolation\n",
      "  warnings.warn(\"approximate p-value will be computed by extrapolation\")\n",
      "c:\\python37\\lib\\site-packages\\scipy\\stats\\morestats.py:1680: UserWarning: approximate p-value will be computed by extrapolation\n",
      "  warnings.warn(\"approximate p-value will be computed by extrapolation\")\n",
      "c:\\python37\\lib\\site-packages\\scipy\\stats\\morestats.py:1680: UserWarning: approximate p-value will be computed by extrapolation\n",
      "  warnings.warn(\"approximate p-value will be computed by extrapolation\")\n",
      "c:\\python37\\lib\\site-packages\\scipy\\stats\\morestats.py:1680: UserWarning: approximate p-value will be computed by extrapolation\n",
      "  warnings.warn(\"approximate p-value will be computed by extrapolation\")\n",
      "c:\\python37\\lib\\site-packages\\scipy\\stats\\morestats.py:1680: UserWarning: approximate p-value will be computed by extrapolation\n",
      "  warnings.warn(\"approximate p-value will be computed by extrapolation\")\n",
      "c:\\python37\\lib\\site-packages\\scipy\\stats\\morestats.py:1680: UserWarning: approximate p-value will be computed by extrapolation\n",
      "  warnings.warn(\"approximate p-value will be computed by extrapolation\")\n",
      "c:\\python37\\lib\\site-packages\\scipy\\stats\\morestats.py:1680: UserWarning: approximate p-value will be computed by extrapolation\n",
      "  warnings.warn(\"approximate p-value will be computed by extrapolation\")\n",
      "c:\\python37\\lib\\site-packages\\scipy\\stats\\morestats.py:1680: UserWarning: approximate p-value will be computed by extrapolation\n",
      "  warnings.warn(\"approximate p-value will be computed by extrapolation\")\n",
      "c:\\python37\\lib\\site-packages\\scipy\\stats\\morestats.py:1680: UserWarning: approximate p-value will be computed by extrapolation\n",
      "  warnings.warn(\"approximate p-value will be computed by extrapolation\")\n",
      "c:\\python37\\lib\\site-packages\\scipy\\stats\\morestats.py:1680: UserWarning: approximate p-value will be computed by extrapolation\n",
      "  warnings.warn(\"approximate p-value will be computed by extrapolation\")\n"
     ]
    },
    {
     "data": {
      "text/plain": [
       "(<matplotlib.axes._subplots.AxesSubplot at 0x2160ef57358>,\n",
       " <matplotlib.colorbar.ColorbarBase at 0x2160efc6a20>)"
      ]
     },
     "execution_count": 441,
     "metadata": {},
     "output_type": "execute_result"
    },
    {
     "data": {
      "image/png": "[encoded data removed]",
      "text/plain": [
       "<Figure size 432x288 with 2 Axes>"
      ]
     },
     "metadata": {
      "needs_background": "light"
     },
     "output_type": "display_data"
    }
   ],
   "source": [
    "\n",
    "pc1 = sp.posthoc_anderson(df, val_col='TMRM', group_col='substance', p_adjust='bonferroni')\n",
    "sp.sign_plot(pc1, **heatmap_args)"
   ]
  },
  {
   "cell_type": "code",
   "execution_count": 442,
   "metadata": {},
   "outputs": [
    {
     "data": {
      "text/html": [
       "<div>\n",
       "<style scoped>\n",
       "    .dataframe tbody tr th:only-of-type {\n",
       "        vertical-align: middle;\n",
       "    }\n",
       "\n",
       "    .dataframe tbody tr th {\n",
       "        vertical-align: top;\n",
       "    }\n",
       "\n",
       "    .dataframe thead th {\n",
       "        text-align: right;\n",
       "    }\n",
       "</style>\n",
       "<table border=\"1\" class=\"dataframe\">\n",
       "  <thead>\n",
       "    <tr style=\"text-align: right;\">\n",
       "      <th></th>\n",
       "      <th>-Ctrl</th>\n",
       "      <th>Ctrl_DMEM</th>\n",
       "      <th>Ctrl_PBS</th>\n",
       "      <th>N_0.1%</th>\n",
       "      <th>N_1%</th>\n",
       "      <th>N_10%</th>\n",
       "      <th>U_1%</th>\n",
       "      <th>U_10%</th>\n",
       "    </tr>\n",
       "  </thead>\n",
       "  <tbody>\n",
       "    <tr>\n",
       "      <th>-Ctrl</th>\n",
       "      <td>-1.000000</td>\n",
       "      <td>0.021934</td>\n",
       "      <td>0.002938</td>\n",
       "      <td>0.000077</td>\n",
       "      <td>0.000003</td>\n",
       "      <td>0.000037</td>\n",
       "      <td>1.000000</td>\n",
       "      <td>0.026995</td>\n",
       "    </tr>\n",
       "    <tr>\n",
       "      <th>Ctrl_DMEM</th>\n",
       "      <td>0.021934</td>\n",
       "      <td>-1.000000</td>\n",
       "      <td>1.000000</td>\n",
       "      <td>1.000000</td>\n",
       "      <td>1.000000</td>\n",
       "      <td>1.000000</td>\n",
       "      <td>1.000000</td>\n",
       "      <td>1.000000</td>\n",
       "    </tr>\n",
       "    <tr>\n",
       "      <th>Ctrl_PBS</th>\n",
       "      <td>0.002938</td>\n",
       "      <td>1.000000</td>\n",
       "      <td>-1.000000</td>\n",
       "      <td>1.000000</td>\n",
       "      <td>1.000000</td>\n",
       "      <td>1.000000</td>\n",
       "      <td>1.000000</td>\n",
       "      <td>1.000000</td>\n",
       "    </tr>\n",
       "    <tr>\n",
       "      <th>N_0.1%</th>\n",
       "      <td>0.000077</td>\n",
       "      <td>1.000000</td>\n",
       "      <td>1.000000</td>\n",
       "      <td>-1.000000</td>\n",
       "      <td>1.000000</td>\n",
       "      <td>1.000000</td>\n",
       "      <td>0.256231</td>\n",
       "      <td>1.000000</td>\n",
       "    </tr>\n",
       "    <tr>\n",
       "      <th>N_1%</th>\n",
       "      <td>0.000003</td>\n",
       "      <td>1.000000</td>\n",
       "      <td>1.000000</td>\n",
       "      <td>1.000000</td>\n",
       "      <td>-1.000000</td>\n",
       "      <td>1.000000</td>\n",
       "      <td>0.035545</td>\n",
       "      <td>1.000000</td>\n",
       "    </tr>\n",
       "    <tr>\n",
       "      <th>N_10%</th>\n",
       "      <td>0.000037</td>\n",
       "      <td>1.000000</td>\n",
       "      <td>1.000000</td>\n",
       "      <td>1.000000</td>\n",
       "      <td>1.000000</td>\n",
       "      <td>-1.000000</td>\n",
       "      <td>0.168427</td>\n",
       "      <td>1.000000</td>\n",
       "    </tr>\n",
       "    <tr>\n",
       "      <th>U_1%</th>\n",
       "      <td>1.000000</td>\n",
       "      <td>1.000000</td>\n",
       "      <td>1.000000</td>\n",
       "      <td>0.256231</td>\n",
       "      <td>0.035545</td>\n",
       "      <td>0.168427</td>\n",
       "      <td>-1.000000</td>\n",
       "      <td>1.000000</td>\n",
       "    </tr>\n",
       "    <tr>\n",
       "      <th>U_10%</th>\n",
       "      <td>0.026995</td>\n",
       "      <td>1.000000</td>\n",
       "      <td>1.000000</td>\n",
       "      <td>1.000000</td>\n",
       "      <td>1.000000</td>\n",
       "      <td>1.000000</td>\n",
       "      <td>1.000000</td>\n",
       "      <td>-1.000000</td>\n",
       "    </tr>\n",
       "  </tbody>\n",
       "</table>\n",
       "</div>"
      ],
      "text/plain": [
       "              -Ctrl  Ctrl_DMEM  Ctrl_PBS   N_0.1%      N_1%     N_10%   \\\n",
       "-Ctrl     -1.000000   0.021934  0.002938  0.000077  0.000003  0.000037   \n",
       "Ctrl_DMEM  0.021934  -1.000000  1.000000  1.000000  1.000000  1.000000   \n",
       "Ctrl_PBS   0.002938   1.000000 -1.000000  1.000000  1.000000  1.000000   \n",
       "N_0.1%     0.000077   1.000000  1.000000 -1.000000  1.000000  1.000000   \n",
       "N_1%       0.000003   1.000000  1.000000  1.000000 -1.000000  1.000000   \n",
       "N_10%      0.000037   1.000000  1.000000  1.000000  1.000000 -1.000000   \n",
       "U_1%       1.000000   1.000000  1.000000  0.256231  0.035545  0.168427   \n",
       "U_10%      0.026995   1.000000  1.000000  1.000000  1.000000  1.000000   \n",
       "\n",
       "               U_1%     U_10%  \n",
       "-Ctrl      1.000000  0.026995  \n",
       "Ctrl_DMEM  1.000000  1.000000  \n",
       "Ctrl_PBS   1.000000  1.000000  \n",
       "N_0.1%     0.256231  1.000000  \n",
       "N_1%       0.035545  1.000000  \n",
       "N_10%      0.168427  1.000000  \n",
       "U_1%      -1.000000  1.000000  \n",
       "U_10%      1.000000 -1.000000  "
      ]
     },
     "execution_count": 442,
     "metadata": {},
     "output_type": "execute_result"
    }
   ],
   "source": [
    "sp.posthoc_dunn(df, val_col='TMRM', group_col='substance', p_adjust='bonferroni')"
   ]
  },
  {
   "cell_type": "code",
   "execution_count": 443,
   "metadata": {},
   "outputs": [
    {
     "data": {
      "text/plain": [
       "(<matplotlib.axes._subplots.AxesSubplot at 0x2160eff02e8>,\n",
       " <matplotlib.colorbar.ColorbarBase at 0x2160f060be0>)"
      ]
     },
     "execution_count": 443,
     "metadata": {},
     "output_type": "execute_result"
    },
    {
     "data": {
      "image/png": "[encoded data removed]",
      "text/plain": [
       "<Figure size 432x288 with 2 Axes>"
      ]
     },
     "metadata": {
      "needs_background": "light"
     },
     "output_type": "display_data"
    }
   ],
   "source": [
    "pc2 = sp.posthoc_dunn(df, val_col='TMRM', group_col='substance', p_adjust='bonferroni')\n",
    "sp.sign_plot(pc2, **heatmap_args)"
   ]
  },
  {
   "cell_type": "code",
   "execution_count": 444,
   "metadata": {},
   "outputs": [
    {
     "data": {
      "text/html": [
       "<div>\n",
       "<style scoped>\n",
       "    .dataframe tbody tr th:only-of-type {\n",
       "        vertical-align: middle;\n",
       "    }\n",
       "\n",
       "    .dataframe tbody tr th {\n",
       "        vertical-align: top;\n",
       "    }\n",
       "\n",
       "    .dataframe thead th {\n",
       "        text-align: right;\n",
       "    }\n",
       "</style>\n",
       "<table border=\"1\" class=\"dataframe\">\n",
       "  <thead>\n",
       "    <tr style=\"text-align: right;\">\n",
       "      <th></th>\n",
       "      <th>-Ctrl</th>\n",
       "      <th>Ctrl_DMEM</th>\n",
       "      <th>Ctrl_PBS</th>\n",
       "      <th>N_0.1%</th>\n",
       "      <th>N_1%</th>\n",
       "      <th>N_10%</th>\n",
       "      <th>U_1%</th>\n",
       "      <th>U_10%</th>\n",
       "    </tr>\n",
       "  </thead>\n",
       "  <tbody>\n",
       "    <tr>\n",
       "      <th>-Ctrl</th>\n",
       "      <td>-1.000000</td>\n",
       "      <td>0.004018</td>\n",
       "      <td>0.004018</td>\n",
       "      <td>0.004018</td>\n",
       "      <td>0.004018</td>\n",
       "      <td>0.004018</td>\n",
       "      <td>0.004018</td>\n",
       "      <td>0.004018</td>\n",
       "    </tr>\n",
       "    <tr>\n",
       "      <th>Ctrl_DMEM</th>\n",
       "      <td>0.004018</td>\n",
       "      <td>-1.000000</td>\n",
       "      <td>1.000000</td>\n",
       "      <td>1.000000</td>\n",
       "      <td>1.000000</td>\n",
       "      <td>1.000000</td>\n",
       "      <td>1.000000</td>\n",
       "      <td>1.000000</td>\n",
       "    </tr>\n",
       "    <tr>\n",
       "      <th>Ctrl_PBS</th>\n",
       "      <td>0.004018</td>\n",
       "      <td>1.000000</td>\n",
       "      <td>-1.000000</td>\n",
       "      <td>1.000000</td>\n",
       "      <td>1.000000</td>\n",
       "      <td>1.000000</td>\n",
       "      <td>1.000000</td>\n",
       "      <td>1.000000</td>\n",
       "    </tr>\n",
       "    <tr>\n",
       "      <th>N_0.1%</th>\n",
       "      <td>0.004018</td>\n",
       "      <td>1.000000</td>\n",
       "      <td>1.000000</td>\n",
       "      <td>-1.000000</td>\n",
       "      <td>1.000000</td>\n",
       "      <td>1.000000</td>\n",
       "      <td>0.953937</td>\n",
       "      <td>1.000000</td>\n",
       "    </tr>\n",
       "    <tr>\n",
       "      <th>N_1%</th>\n",
       "      <td>0.004018</td>\n",
       "      <td>1.000000</td>\n",
       "      <td>1.000000</td>\n",
       "      <td>1.000000</td>\n",
       "      <td>-1.000000</td>\n",
       "      <td>1.000000</td>\n",
       "      <td>0.011544</td>\n",
       "      <td>0.011544</td>\n",
       "    </tr>\n",
       "    <tr>\n",
       "      <th>N_10%</th>\n",
       "      <td>0.004018</td>\n",
       "      <td>1.000000</td>\n",
       "      <td>1.000000</td>\n",
       "      <td>1.000000</td>\n",
       "      <td>1.000000</td>\n",
       "      <td>-1.000000</td>\n",
       "      <td>0.011544</td>\n",
       "      <td>0.011544</td>\n",
       "    </tr>\n",
       "    <tr>\n",
       "      <th>U_1%</th>\n",
       "      <td>0.004018</td>\n",
       "      <td>1.000000</td>\n",
       "      <td>1.000000</td>\n",
       "      <td>0.953937</td>\n",
       "      <td>0.011544</td>\n",
       "      <td>0.011544</td>\n",
       "      <td>-1.000000</td>\n",
       "      <td>0.292440</td>\n",
       "    </tr>\n",
       "    <tr>\n",
       "      <th>U_10%</th>\n",
       "      <td>0.004018</td>\n",
       "      <td>1.000000</td>\n",
       "      <td>1.000000</td>\n",
       "      <td>1.000000</td>\n",
       "      <td>0.011544</td>\n",
       "      <td>0.011544</td>\n",
       "      <td>0.292440</td>\n",
       "      <td>-1.000000</td>\n",
       "    </tr>\n",
       "  </tbody>\n",
       "</table>\n",
       "</div>"
      ],
      "text/plain": [
       "              -Ctrl  Ctrl_DMEM  Ctrl_PBS   N_0.1%      N_1%     N_10%   \\\n",
       "-Ctrl     -1.000000   0.004018  0.004018  0.004018  0.004018  0.004018   \n",
       "Ctrl_DMEM  0.004018  -1.000000  1.000000  1.000000  1.000000  1.000000   \n",
       "Ctrl_PBS   0.004018   1.000000 -1.000000  1.000000  1.000000  1.000000   \n",
       "N_0.1%     0.004018   1.000000  1.000000 -1.000000  1.000000  1.000000   \n",
       "N_1%       0.004018   1.000000  1.000000  1.000000 -1.000000  1.000000   \n",
       "N_10%      0.004018   1.000000  1.000000  1.000000  1.000000 -1.000000   \n",
       "U_1%       0.004018   1.000000  1.000000  0.953937  0.011544  0.011544   \n",
       "U_10%      0.004018   1.000000  1.000000  1.000000  0.011544  0.011544   \n",
       "\n",
       "               U_1%     U_10%  \n",
       "-Ctrl      0.004018  0.004018  \n",
       "Ctrl_DMEM  1.000000  1.000000  \n",
       "Ctrl_PBS   1.000000  1.000000  \n",
       "N_0.1%     0.953937  1.000000  \n",
       "N_1%       0.011544  0.011544  \n",
       "N_10%      0.011544  0.011544  \n",
       "U_1%      -1.000000  0.292440  \n",
       "U_10%      0.292440 -1.000000  "
      ]
     },
     "execution_count": 444,
     "metadata": {},
     "output_type": "execute_result"
    }
   ],
   "source": [
    "sp.posthoc_mannwhitney(df, val_col='TMRM', group_col='substance', p_adjust='bonferroni')"
   ]
  },
  {
   "cell_type": "code",
   "execution_count": 445,
   "metadata": {},
   "outputs": [
    {
     "data": {
      "text/plain": [
       "(<matplotlib.axes._subplots.AxesSubplot at 0x2160f08a470>,\n",
       " <matplotlib.colorbar.ColorbarBase at 0x2160f0ff048>)"
      ]
     },
     "execution_count": 445,
     "metadata": {},
     "output_type": "execute_result"
    },
    {
     "data": {
      "image/png": "[encoded data removed]",
      "text/plain": [
       "<Figure size 432x288 with 2 Axes>"
      ]
     },
     "metadata": {
      "needs_background": "light"
     },
     "output_type": "display_data"
    }
   ],
   "source": [
    "pc3 = sp.posthoc_dunn(df, val_col='TMRM', group_col='substance', p_adjust='bonferroni')\n",
    "sp.sign_plot(pc3, **heatmap_args)"
   ]
  },
  {
   "cell_type": "code",
   "execution_count": 446,
   "metadata": {},
   "outputs": [
    {
     "data": {
      "text/plain": [
       "(<matplotlib.axes._subplots.AxesSubplot at 0x2160f11d358>,\n",
       " <matplotlib.colorbar.ColorbarBase at 0x2160f1990f0>)"
      ]
     },
     "execution_count": 446,
     "metadata": {},
     "output_type": "execute_result"
    },
    {
     "data": {
      "image/png": "[encoded data removed]",
      "text/plain": [
       "<Figure size 432x288 with 2 Axes>"
      ]
     },
     "metadata": {
      "needs_background": "light"
     },
     "output_type": "display_data"
    }
   ],
   "source": [
    "pc3 = sp.posthoc_mannwhitney(df, val_col='TMRM', group_col='substance', p_adjust='fdr_bh')\n",
    "sp.sign_plot(pc3, **heatmap_args)"
   ]
  },
  {
   "cell_type": "code",
   "execution_count": 447,
   "metadata": {},
   "outputs": [
    {
     "data": {
      "text/plain": [
       "(<matplotlib.axes._subplots.AxesSubplot at 0x2160f1b4ba8>,\n",
       " <matplotlib.colorbar.ColorbarBase at 0x2160f22e588>)"
      ]
     },
     "execution_count": 447,
     "metadata": {},
     "output_type": "execute_result"
    },
    {
     "data": {
      "image/png": "[encoded data removed]",
      "text/plain": [
       "<Figure size 432x288 with 2 Axes>"
      ]
     },
     "metadata": {
      "needs_background": "light"
     },
     "output_type": "display_data"
    }
   ],
   "source": [
    "sp.posthoc_scheffe(df, val_col='TMRM', group_col='substance', p_adjust='fdr_bh')\n",
    "pc3 = sp.posthoc_scheffe(df, val_col='TMRM', group_col='substance', p_adjust='fdr_bh')\n",
    "sp.sign_plot(pc3, **heatmap_args)"
   ]
  },
  {
   "cell_type": "code",
   "execution_count": 449,
   "metadata": {
    "scrolled": true
   },
   "outputs": [
    {
     "data": {
      "text/plain": [
       "(<matplotlib.axes._subplots.AxesSubplot at 0x2160f2d7828>,\n",
       " <matplotlib.colorbar.ColorbarBase at 0x2160f353588>)"
      ]
     },
     "execution_count": 449,
     "metadata": {},
     "output_type": "execute_result"
    },
    {
     "data": {
      "image/png": "[encoded data removed]",
      "text/plain": [
       "<Figure size 432x288 with 2 Axes>"
      ]
     },
     "metadata": {
      "needs_background": "light"
     },
     "output_type": "display_data"
    }
   ],
   "source": [
    "sp.sign_plot(sp.posthoc_ttest(df, val_col='TMRM', group_col='substance', p_adjust='holm'), **heatmap_args)"
   ]
  },
  {
   "cell_type": "code",
   "execution_count": 450,
   "metadata": {},
   "outputs": [
    {
     "data": {
      "text/plain": [
       "(<matplotlib.axes._subplots.AxesSubplot at 0x2160f37b160>,\n",
       " <matplotlib.colorbar.ColorbarBase at 0x2160f3e8780>)"
      ]
     },
     "execution_count": 450,
     "metadata": {},
     "output_type": "execute_result"
    },
    {
     "data": {
      "image/png": "[encoded data removed]",
      "text/plain": [
       "<Figure size 432x288 with 2 Axes>"
      ]
     },
     "metadata": {
      "needs_background": "light"
     },
     "output_type": "display_data"
    }
   ],
   "source": [
    "sp.sign_plot(sp.posthoc_ttest(df, val_col='TMRM', group_col='substance', p_adjust='bonferroni'), **heatmap_args)"
   ]
  },
  {
   "cell_type": "code",
   "execution_count": 451,
   "metadata": {},
   "outputs": [
    {
     "data": {
      "text/plain": [
       "1.899253802016037e-07"
      ]
     },
     "execution_count": 451,
     "metadata": {},
     "output_type": "execute_result"
    }
   ],
   "source": [
    "data = [df.loc[ids, 'TMRM'].values for ids in df.groupby('substance').groups.values()]\n",
    "H, p = ss.kruskal(*data)\n",
    "p"
   ]
  },
  {
   "cell_type": "code",
   "execution_count": 452,
   "metadata": {},
   "outputs": [
    {
     "ename": "ValueError",
     "evalue": "Unequal N in wilcoxon.  Aborting.",
     "output_type": "error",
     "traceback": [
      "\u001b[1;31m---------------------------------------------------------------------------\u001b[0m",
      "\u001b[1;31mValueError\u001b[0m                                Traceback (most recent call last)",
      "\u001b[1;32m<ipython-input-452-5aaab39dc77c>\u001b[0m in \u001b[0;36m<module>\u001b[1;34m\u001b[0m\n\u001b[1;32m----> 1\u001b[1;33m \u001b[0msp\u001b[0m\u001b[1;33m.\u001b[0m\u001b[0msign_plot\u001b[0m\u001b[1;33m(\u001b[0m\u001b[0msp\u001b[0m\u001b[1;33m.\u001b[0m\u001b[0mposthoc_wilcoxon\u001b[0m\u001b[1;33m(\u001b[0m\u001b[0mdf\u001b[0m\u001b[1;33m,\u001b[0m \u001b[0mval_col\u001b[0m\u001b[1;33m=\u001b[0m\u001b[1;34m'TMRM'\u001b[0m\u001b[1;33m,\u001b[0m \u001b[0mgroup_col\u001b[0m\u001b[1;33m=\u001b[0m\u001b[1;34m'substance'\u001b[0m\u001b[1;33m,\u001b[0m \u001b[0mp_adjust\u001b[0m\u001b[1;33m=\u001b[0m\u001b[1;32mNone\u001b[0m\u001b[1;33m)\u001b[0m\u001b[1;33m,\u001b[0m \u001b[1;33m**\u001b[0m\u001b[0mheatmap_args\u001b[0m\u001b[1;33m)\u001b[0m\u001b[1;33m\u001b[0m\u001b[0m\n\u001b[0m",
      "\u001b[1;32mc:\\python37\\lib\\site-packages\\scikit_posthocs\\_posthocs.py\u001b[0m in \u001b[0;36mposthoc_wilcoxon\u001b[1;34m(a, val_col, group_col, zero_method, correction, p_adjust, sort)\u001b[0m\n\u001b[0;32m   2075\u001b[0m         vs[i, j] = ss.wilcoxon(x.loc[x[_group_col] == groups[i], _val_col],\n\u001b[0;32m   2076\u001b[0m                                \u001b[0mx\u001b[0m\u001b[1;33m.\u001b[0m\u001b[0mloc\u001b[0m\u001b[1;33m[\u001b[0m\u001b[0mx\u001b[0m\u001b[1;33m[\u001b[0m\u001b[0m_group_col\u001b[0m\u001b[1;33m]\u001b[0m \u001b[1;33m==\u001b[0m \u001b[0mgroups\u001b[0m\u001b[1;33m[\u001b[0m\u001b[0mj\u001b[0m\u001b[1;33m]\u001b[0m\u001b[1;33m,\u001b[0m \u001b[0m_val_col\u001b[0m\u001b[1;33m]\u001b[0m\u001b[1;33m,\u001b[0m\u001b[1;33m\u001b[0m\u001b[0m\n\u001b[1;32m-> 2077\u001b[1;33m                                zero_method=zero_method, correction=correction)[1]\n\u001b[0m\u001b[0;32m   2078\u001b[0m \u001b[1;33m\u001b[0m\u001b[0m\n\u001b[0;32m   2079\u001b[0m     \u001b[1;32mif\u001b[0m \u001b[0mp_adjust\u001b[0m\u001b[1;33m:\u001b[0m\u001b[1;33m\u001b[0m\u001b[0m\n",
      "\u001b[1;32mc:\\python37\\lib\\site-packages\\scipy\\stats\\morestats.py\u001b[0m in \u001b[0;36mwilcoxon\u001b[1;34m(x, y, zero_method, correction)\u001b[0m\n\u001b[0;32m   2377\u001b[0m         \u001b[0mx\u001b[0m\u001b[1;33m,\u001b[0m \u001b[0my\u001b[0m \u001b[1;33m=\u001b[0m \u001b[0mmap\u001b[0m\u001b[1;33m(\u001b[0m\u001b[0masarray\u001b[0m\u001b[1;33m,\u001b[0m \u001b[1;33m(\u001b[0m\u001b[0mx\u001b[0m\u001b[1;33m,\u001b[0m \u001b[0my\u001b[0m\u001b[1;33m)\u001b[0m\u001b[1;33m)\u001b[0m\u001b[1;33m\u001b[0m\u001b[0m\n\u001b[0;32m   2378\u001b[0m         \u001b[1;32mif\u001b[0m \u001b[0mlen\u001b[0m\u001b[1;33m(\u001b[0m\u001b[0mx\u001b[0m\u001b[1;33m)\u001b[0m \u001b[1;33m!=\u001b[0m \u001b[0mlen\u001b[0m\u001b[1;33m(\u001b[0m\u001b[0my\u001b[0m\u001b[1;33m)\u001b[0m\u001b[1;33m:\u001b[0m\u001b[1;33m\u001b[0m\u001b[0m\n\u001b[1;32m-> 2379\u001b[1;33m             \u001b[1;32mraise\u001b[0m \u001b[0mValueError\u001b[0m\u001b[1;33m(\u001b[0m\u001b[1;34m'Unequal N in wilcoxon.  Aborting.'\u001b[0m\u001b[1;33m)\u001b[0m\u001b[1;33m\u001b[0m\u001b[0m\n\u001b[0m\u001b[0;32m   2380\u001b[0m         \u001b[0md\u001b[0m \u001b[1;33m=\u001b[0m \u001b[0mx\u001b[0m \u001b[1;33m-\u001b[0m \u001b[0my\u001b[0m\u001b[1;33m\u001b[0m\u001b[0m\n\u001b[0;32m   2381\u001b[0m \u001b[1;33m\u001b[0m\u001b[0m\n",
      "\u001b[1;31mValueError\u001b[0m: Unequal N in wilcoxon.  Aborting."
     ]
    }
   ],
   "source": [
    "sp.sign_plot(sp.posthoc_wilcoxon(df, val_col='TMRM', group_col='substance', p_adjust=None), **heatmap_args)"
   ]
  },
  {
   "cell_type": "code",
   "execution_count": 453,
   "metadata": {},
   "outputs": [
    {
     "data": {
      "text/plain": [
       "(<matplotlib.axes._subplots.AxesSubplot at 0x2160f42d710>,\n",
       " <matplotlib.colorbar.ColorbarBase at 0x2160f49ecf8>)"
      ]
     },
     "execution_count": 453,
     "metadata": {},
     "output_type": "execute_result"
    },
    {
     "data": {
      "image/png": "[encoded data removed]",
      "text/plain": [
       "<Figure size 432x288 with 2 Axes>"
      ]
     },
     "metadata": {
      "needs_background": "light"
     },
     "output_type": "display_data"
    }
   ],
   "source": [
    "sp.sign_plot(sp.posthoc_vanwaerden(df, val_col='TMRM', group_col='substance', p_adjust=None), **heatmap_args)"
   ]
  },
  {
   "cell_type": "code",
   "execution_count": 454,
   "metadata": {},
   "outputs": [
    {
     "data": {
      "text/plain": [
       "((<matplotlib.axes._subplots.AxesSubplot at 0x2160f4c2828>,\n",
       "  <matplotlib.colorbar.ColorbarBase at 0x2160f5400b8>),)"
      ]
     },
     "execution_count": 454,
     "metadata": {},
     "output_type": "execute_result"
    },
    {
     "data": {
      "image/png": "[encoded data removed]",
      "text/plain": [
       "<Figure size 432x288 with 2 Axes>"
      ]
     },
     "metadata": {
      "needs_background": "light"
     },
     "output_type": "display_data"
    }
   ],
   "source": [
    "sp.sign_plot(sp.posthoc_vanwaerden(df, val_col='TMRM', group_col='substance', p_adjust='fdr_bh'), **heatmap_args),"
   ]
  },
  {
   "cell_type": "code",
   "execution_count": 460,
   "metadata": {},
   "outputs": [
    {
     "data": {
      "text/plain": [
       "((<matplotlib.axes._subplots.AxesSubplot at 0x2160f693358>,\n",
       "  <matplotlib.colorbar.ColorbarBase at 0x2160f7049e8>),)"
      ]
     },
     "execution_count": 460,
     "metadata": {},
     "output_type": "execute_result"
    },
    {
     "data": {
      "image/png": "[encoded data removed]",
      "text/plain": [
       "<Figure size 432x288 with 2 Axes>"
      ]
     },
     "metadata": {
      "needs_background": "light"
     },
     "output_type": "display_data"
    }
   ],
   "source": [
    "sp.sign_plot(sp.posthoc_ttest(df, val_col='TMRM', group_col='substance', p_adjust='bonferroni'), **heatmap_args),"
   ]
  },
  {
   "cell_type": "code",
   "execution_count": 461,
   "metadata": {},
   "outputs": [
    {
     "data": {
      "text/plain": [
       "((<matplotlib.axes._subplots.AxesSubplot at 0x2160f727550>,\n",
       "  <matplotlib.colorbar.ColorbarBase at 0x2160f797cc0>),)"
      ]
     },
     "execution_count": 461,
     "metadata": {},
     "output_type": "execute_result"
    },
    {
     "data": {
      "image/png": "[encoded data removed]",
      "text/plain": [
       "<Figure size 432x288 with 2 Axes>"
      ]
     },
     "metadata": {
      "needs_background": "light"
     },
     "output_type": "display_data"
    }
   ],
   "source": [
    "sp.sign_plot(sp.posthoc_ttest(df, val_col='TMRM', group_col='substance', p_adjust='simes-hochberg'), **heatmap_args),"
   ]
  },
  {
   "cell_type": "code",
   "execution_count": 462,
   "metadata": {},
   "outputs": [
    {
     "data": {
      "text/plain": [
       "((<matplotlib.axes._subplots.AxesSubplot at 0x2160f7bf780>,\n",
       "  <matplotlib.colorbar.ColorbarBase at 0x2160f831ef0>),)"
      ]
     },
     "execution_count": 462,
     "metadata": {},
     "output_type": "execute_result"
    },
    {
     "data": {
      "image/png": "[encoded data removed]",
      "text/plain": [
       "<Figure size 432x288 with 2 Axes>"
      ]
     },
     "metadata": {
      "needs_background": "light"
     },
     "output_type": "display_data"
    }
   ],
   "source": [
    "sp.sign_plot(sp.posthoc_ttest(df, val_col='TMRM', group_col='substance', p_adjust='hommel'), **heatmap_args),"
   ]
  },
  {
   "cell_type": "code",
   "execution_count": 487,
   "metadata": {},
   "outputs": [
    {
     "ename": "KeyError",
     "evalue": "'TMRM'",
     "output_type": "error",
     "traceback": [
      "\u001b[1;31m---------------------------------------------------------------------------\u001b[0m",
      "\u001b[1;31mKeyError\u001b[0m                                  Traceback (most recent call last)",
      "\u001b[1;32m<ipython-input-487-db7371a868ca>\u001b[0m in \u001b[0;36m<module>\u001b[1;34m\u001b[0m\n\u001b[1;32m----> 1\u001b[1;33m \u001b[0msp\u001b[0m\u001b[1;33m.\u001b[0m\u001b[0msign_plot\u001b[0m\u001b[1;33m(\u001b[0m\u001b[0msp\u001b[0m\u001b[1;33m.\u001b[0m\u001b[0mposthoc_ttest\u001b[0m\u001b[1;33m(\u001b[0m\u001b[0mdf\u001b[0m\u001b[1;33m,\u001b[0m \u001b[0mval_col\u001b[0m\u001b[1;33m=\u001b[0m\u001b[1;34m'TMRM'\u001b[0m\u001b[1;33m,\u001b[0m \u001b[0mgroup_col\u001b[0m\u001b[1;33m=\u001b[0m\u001b[1;34m'substance'\u001b[0m\u001b[1;33m,\u001b[0m \u001b[0mp_adjust\u001b[0m\u001b[1;33m=\u001b[0m\u001b[1;34m'fdr_tsbky'\u001b[0m\u001b[1;33m)\u001b[0m\u001b[1;33m,\u001b[0m \u001b[1;33m**\u001b[0m\u001b[0mheatmap_args\u001b[0m\u001b[1;33m)\u001b[0m\u001b[1;33m,\u001b[0m\u001b[1;33m\u001b[0m\u001b[0m\n\u001b[0m",
      "\u001b[1;32mc:\\python37\\lib\\site-packages\\scikit_posthocs\\_posthocs.py\u001b[0m in \u001b[0;36mposthoc_ttest\u001b[1;34m(a, val_col, group_col, pool_sd, equal_var, p_adjust, sort)\u001b[0m\n\u001b[0;32m   1786\u001b[0m             \u001b[0mx\u001b[0m\u001b[1;33m[\u001b[0m\u001b[0mgroup_col\u001b[0m\u001b[1;33m]\u001b[0m \u001b[1;33m=\u001b[0m \u001b[0mCategorical\u001b[0m\u001b[1;33m(\u001b[0m\u001b[0mx\u001b[0m\u001b[1;33m[\u001b[0m\u001b[0mgroup_col\u001b[0m\u001b[1;33m]\u001b[0m\u001b[1;33m,\u001b[0m \u001b[0mcategories\u001b[0m\u001b[1;33m=\u001b[0m\u001b[0mx\u001b[0m\u001b[1;33m[\u001b[0m\u001b[0mgroup_col\u001b[0m\u001b[1;33m]\u001b[0m\u001b[1;33m.\u001b[0m\u001b[0munique\u001b[0m\u001b[1;33m(\u001b[0m\u001b[1;33m)\u001b[0m\u001b[1;33m,\u001b[0m \u001b[0mordered\u001b[0m\u001b[1;33m=\u001b[0m\u001b[1;32mTrue\u001b[0m\u001b[1;33m)\u001b[0m\u001b[1;33m\u001b[0m\u001b[0m\n\u001b[0;32m   1787\u001b[0m \u001b[1;33m\u001b[0m\u001b[0m\n\u001b[1;32m-> 1788\u001b[1;33m         \u001b[0mx\u001b[0m\u001b[1;33m.\u001b[0m\u001b[0msort_values\u001b[0m\u001b[1;33m(\u001b[0m\u001b[0mby\u001b[0m\u001b[1;33m=\u001b[0m\u001b[1;33m[\u001b[0m\u001b[0mgroup_col\u001b[0m\u001b[1;33m,\u001b[0m \u001b[0mval_col\u001b[0m\u001b[1;33m]\u001b[0m\u001b[1;33m,\u001b[0m \u001b[0mascending\u001b[0m\u001b[1;33m=\u001b[0m\u001b[1;32mTrue\u001b[0m\u001b[1;33m,\u001b[0m \u001b[0minplace\u001b[0m\u001b[1;33m=\u001b[0m\u001b[1;32mTrue\u001b[0m\u001b[1;33m)\u001b[0m\u001b[1;33m\u001b[0m\u001b[0m\n\u001b[0m\u001b[0;32m   1789\u001b[0m         \u001b[0mx_lens\u001b[0m \u001b[1;33m=\u001b[0m \u001b[0mx\u001b[0m\u001b[1;33m.\u001b[0m\u001b[0mgroupby\u001b[0m\u001b[1;33m(\u001b[0m\u001b[0mby\u001b[0m\u001b[1;33m=\u001b[0m\u001b[0mgroup_col\u001b[0m\u001b[1;33m)\u001b[0m\u001b[1;33m[\u001b[0m\u001b[0mval_col\u001b[0m\u001b[1;33m]\u001b[0m\u001b[1;33m.\u001b[0m\u001b[0mcount\u001b[0m\u001b[1;33m(\u001b[0m\u001b[1;33m)\u001b[0m\u001b[1;33m.\u001b[0m\u001b[0mvalues\u001b[0m\u001b[1;33m\u001b[0m\u001b[0m\n\u001b[0;32m   1790\u001b[0m         \u001b[0mx_lens_cumsum\u001b[0m \u001b[1;33m=\u001b[0m \u001b[0mnp\u001b[0m\u001b[1;33m.\u001b[0m\u001b[0minsert\u001b[0m\u001b[1;33m(\u001b[0m\u001b[0mnp\u001b[0m\u001b[1;33m.\u001b[0m\u001b[0mcumsum\u001b[0m\u001b[1;33m(\u001b[0m\u001b[0mx_lens\u001b[0m\u001b[1;33m)\u001b[0m\u001b[1;33m,\u001b[0m \u001b[1;36m0\u001b[0m\u001b[1;33m,\u001b[0m \u001b[1;36m0\u001b[0m\u001b[1;33m)\u001b[0m\u001b[1;33m[\u001b[0m\u001b[1;33m:\u001b[0m\u001b[1;33m-\u001b[0m\u001b[1;36m1\u001b[0m\u001b[1;33m]\u001b[0m\u001b[1;33m\u001b[0m\u001b[0m\n",
      "\u001b[1;32mc:\\python37\\lib\\site-packages\\pandas\\core\\frame.py\u001b[0m in \u001b[0;36msort_values\u001b[1;34m(self, by, axis, ascending, inplace, kind, na_position)\u001b[0m\n\u001b[0;32m   4409\u001b[0m             \u001b[1;32mfor\u001b[0m \u001b[0mx\u001b[0m \u001b[1;32min\u001b[0m \u001b[0mby\u001b[0m\u001b[1;33m:\u001b[0m\u001b[1;33m\u001b[0m\u001b[0m\n\u001b[0;32m   4410\u001b[0m                 k = self._get_label_or_level_values(x, axis=axis,\n\u001b[1;32m-> 4411\u001b[1;33m                                                     stacklevel=stacklevel)\n\u001b[0m\u001b[0;32m   4412\u001b[0m                 \u001b[0mkeys\u001b[0m\u001b[1;33m.\u001b[0m\u001b[0mappend\u001b[0m\u001b[1;33m(\u001b[0m\u001b[0mk\u001b[0m\u001b[1;33m)\u001b[0m\u001b[1;33m\u001b[0m\u001b[0m\n\u001b[0;32m   4413\u001b[0m             indexer = lexsort_indexer(keys, orders=ascending,\n",
      "\u001b[1;32mc:\\python37\\lib\\site-packages\\pandas\\core\\generic.py\u001b[0m in \u001b[0;36m_get_label_or_level_values\u001b[1;34m(self, key, axis, stacklevel)\u001b[0m\n\u001b[0;32m   1380\u001b[0m             \u001b[0mvalues\u001b[0m \u001b[1;33m=\u001b[0m \u001b[0mself\u001b[0m\u001b[1;33m.\u001b[0m\u001b[0maxes\u001b[0m\u001b[1;33m[\u001b[0m\u001b[0maxis\u001b[0m\u001b[1;33m]\u001b[0m\u001b[1;33m.\u001b[0m\u001b[0mget_level_values\u001b[0m\u001b[1;33m(\u001b[0m\u001b[0mkey\u001b[0m\u001b[1;33m)\u001b[0m\u001b[1;33m.\u001b[0m\u001b[0m_values\u001b[0m\u001b[1;33m\u001b[0m\u001b[0m\n\u001b[0;32m   1381\u001b[0m         \u001b[1;32melse\u001b[0m\u001b[1;33m:\u001b[0m\u001b[1;33m\u001b[0m\u001b[0m\n\u001b[1;32m-> 1382\u001b[1;33m             \u001b[1;32mraise\u001b[0m \u001b[0mKeyError\u001b[0m\u001b[1;33m(\u001b[0m\u001b[0mkey\u001b[0m\u001b[1;33m)\u001b[0m\u001b[1;33m\u001b[0m\u001b[0m\n\u001b[0m\u001b[0;32m   1383\u001b[0m \u001b[1;33m\u001b[0m\u001b[0m\n\u001b[0;32m   1384\u001b[0m         \u001b[1;31m# Check for duplicates\u001b[0m\u001b[1;33m\u001b[0m\u001b[1;33m\u001b[0m\u001b[0m\n",
      "\u001b[1;31mKeyError\u001b[0m: 'TMRM'"
     ]
    }
   ],
   "source": [
    "sp.sign_plot(sp.posthoc_ttest(df, val_col='TMRM', group_col='substance', p_adjust='fdr_tsbky'), **heatmap_args),"
   ]
  },
  {
   "cell_type": "code",
   "execution_count": 470,
   "metadata": {},
   "outputs": [],
   "source": [
    "mtt = pd.read_csv('~/mtt.csv')"
   ]
  },
  {
   "cell_type": "code",
   "execution_count": 481,
   "metadata": {},
   "outputs": [],
   "source": [
    "df = mtt"
   ]
  },
  {
   "cell_type": "code",
   "execution_count": 488,
   "metadata": {},
   "outputs": [
    {
     "data": {
      "text/plain": [
       "(<matplotlib.axes._subplots.AxesSubplot at 0x21610d33828>,\n",
       " <matplotlib.colorbar.ColorbarBase at 0x21610da48d0>)"
      ]
     },
     "execution_count": 488,
     "metadata": {},
     "output_type": "execute_result"
    },
    {
     "data": {
      "image/png": "[encoded data removed]",
      "text/plain": [
       "<Figure size 432x288 with 2 Axes>"
      ]
     },
     "metadata": {
      "needs_background": "light"
     },
     "output_type": "display_data"
    }
   ],
   "source": [
    "sp.sign_plot(sp.posthoc_ttest(df, val_col='MTT', group_col='substance', p_adjust=None), **heatmap_args)"
   ]
  },
  {
   "cell_type": "code",
   "execution_count": 485,
   "metadata": {},
   "outputs": [
    {
     "name": "stdout",
     "output_type": "stream",
     "text": [
      "                df    sum_sq   mean_sq          F        PR(>F)\n",
      "C(substance)   6.0  3.386560  0.564427  20.548814  3.828794e-10\n",
      "Residual      35.0  0.961366  0.027468        NaN           NaN\n"
     ]
    }
   ],
   "source": [
    "lm = sfa.ols('MTT ~ C(substance)', data=df).fit()\n",
    "anova = sa.stats.anova_lm(lm)\n",
    "print(anova)"
   ]
  },
  {
   "cell_type": "code",
   "execution_count": 484,
   "metadata": {},
   "outputs": [
    {
     "data": {
      "text/plain": [
       "0.010256593661381552"
      ]
     },
     "execution_count": 484,
     "metadata": {},
     "output_type": "execute_result"
    }
   ],
   "source": [
    "data = [df.loc[ids, 'MTT'].values for ids in df.groupby('substance').groups.values()]\n",
    "H, p = ss.kruskal(*data)\n",
    "p"
   ]
  },
  {
   "cell_type": "code",
   "execution_count": 483,
   "metadata": {},
   "outputs": [
    {
     "data": {
      "text/html": [
       "<div>\n",
       "<style scoped>\n",
       "    .dataframe tbody tr th:only-of-type {\n",
       "        vertical-align: middle;\n",
       "    }\n",
       "\n",
       "    .dataframe tbody tr th {\n",
       "        vertical-align: top;\n",
       "    }\n",
       "\n",
       "    .dataframe thead th {\n",
       "        text-align: right;\n",
       "    }\n",
       "</style>\n",
       "<table border=\"1\" class=\"dataframe\">\n",
       "  <thead>\n",
       "    <tr style=\"text-align: right;\">\n",
       "      <th></th>\n",
       "      <th>DMSO</th>\n",
       "      <th>PBS20</th>\n",
       "      <th>control</th>\n",
       "      <th>neoton1</th>\n",
       "      <th>neoton10</th>\n",
       "      <th>unifusol2</th>\n",
       "      <th>unifusol20</th>\n",
       "    </tr>\n",
       "  </thead>\n",
       "  <tbody>\n",
       "    <tr>\n",
       "      <th>DMSO</th>\n",
       "      <td>-1.000000e+00</td>\n",
       "      <td>1.402381e-07</td>\n",
       "      <td>0.000167</td>\n",
       "      <td>3.919752e-10</td>\n",
       "      <td>7.428527e-10</td>\n",
       "      <td>6.033646e-07</td>\n",
       "      <td>0.001457</td>\n",
       "    </tr>\n",
       "    <tr>\n",
       "      <th>PBS20</th>\n",
       "      <td>1.402381e-07</td>\n",
       "      <td>-1.000000e+00</td>\n",
       "      <td>1.000000</td>\n",
       "      <td>1.000000e+00</td>\n",
       "      <td>1.000000e+00</td>\n",
       "      <td>1.000000e+00</td>\n",
       "      <td>1.000000</td>\n",
       "    </tr>\n",
       "    <tr>\n",
       "      <th>control</th>\n",
       "      <td>1.667002e-04</td>\n",
       "      <td>1.000000e+00</td>\n",
       "      <td>-1.000000</td>\n",
       "      <td>1.000000e+00</td>\n",
       "      <td>1.000000e+00</td>\n",
       "      <td>1.000000e+00</td>\n",
       "      <td>1.000000</td>\n",
       "    </tr>\n",
       "    <tr>\n",
       "      <th>neoton1</th>\n",
       "      <td>3.919752e-10</td>\n",
       "      <td>1.000000e+00</td>\n",
       "      <td>1.000000</td>\n",
       "      <td>-1.000000e+00</td>\n",
       "      <td>1.000000e+00</td>\n",
       "      <td>1.000000e+00</td>\n",
       "      <td>1.000000</td>\n",
       "    </tr>\n",
       "    <tr>\n",
       "      <th>neoton10</th>\n",
       "      <td>7.428527e-10</td>\n",
       "      <td>1.000000e+00</td>\n",
       "      <td>1.000000</td>\n",
       "      <td>1.000000e+00</td>\n",
       "      <td>-1.000000e+00</td>\n",
       "      <td>1.000000e+00</td>\n",
       "      <td>1.000000</td>\n",
       "    </tr>\n",
       "    <tr>\n",
       "      <th>unifusol2</th>\n",
       "      <td>6.033646e-07</td>\n",
       "      <td>1.000000e+00</td>\n",
       "      <td>1.000000</td>\n",
       "      <td>1.000000e+00</td>\n",
       "      <td>1.000000e+00</td>\n",
       "      <td>-1.000000e+00</td>\n",
       "      <td>1.000000</td>\n",
       "    </tr>\n",
       "    <tr>\n",
       "      <th>unifusol20</th>\n",
       "      <td>1.457134e-03</td>\n",
       "      <td>1.000000e+00</td>\n",
       "      <td>1.000000</td>\n",
       "      <td>1.000000e+00</td>\n",
       "      <td>1.000000e+00</td>\n",
       "      <td>1.000000e+00</td>\n",
       "      <td>-1.000000</td>\n",
       "    </tr>\n",
       "  </tbody>\n",
       "</table>\n",
       "</div>"
      ],
      "text/plain": [
       "                    DMSO         PBS20   control       neoton1      neoton10  \\\n",
       "DMSO       -1.000000e+00  1.402381e-07  0.000167  3.919752e-10  7.428527e-10   \n",
       "PBS20       1.402381e-07 -1.000000e+00  1.000000  1.000000e+00  1.000000e+00   \n",
       "control     1.667002e-04  1.000000e+00 -1.000000  1.000000e+00  1.000000e+00   \n",
       "neoton1     3.919752e-10  1.000000e+00  1.000000 -1.000000e+00  1.000000e+00   \n",
       "neoton10    7.428527e-10  1.000000e+00  1.000000  1.000000e+00 -1.000000e+00   \n",
       "unifusol2   6.033646e-07  1.000000e+00  1.000000  1.000000e+00  1.000000e+00   \n",
       "unifusol20  1.457134e-03  1.000000e+00  1.000000  1.000000e+00  1.000000e+00   \n",
       "\n",
       "               unifusol2  unifusol20  \n",
       "DMSO        6.033646e-07    0.001457  \n",
       "PBS20       1.000000e+00    1.000000  \n",
       "control     1.000000e+00    1.000000  \n",
       "neoton1     1.000000e+00    1.000000  \n",
       "neoton10    1.000000e+00    1.000000  \n",
       "unifusol2  -1.000000e+00    1.000000  \n",
       "unifusol20  1.000000e+00   -1.000000  "
      ]
     },
     "execution_count": 483,
     "metadata": {},
     "output_type": "execute_result"
    }
   ],
   "source": [
    "sp.posthoc_ttest(df, val_col='MTT', group_col='substance', p_adjust='holm')"
   ]
  },
  {
   "cell_type": "code",
   "execution_count": 489,
   "metadata": {},
   "outputs": [
    {
     "data": {
      "text/plain": [
       "(<matplotlib.axes._subplots.AxesSubplot at 0x21610dca160>,\n",
       " <matplotlib.colorbar.ColorbarBase at 0x21610e3b208>)"
      ]
     },
     "execution_count": 489,
     "metadata": {},
     "output_type": "execute_result"
    },
    {
     "data": {
      "image/png": "[encoded data removed]",
      "text/plain": [
       "<Figure size 432x288 with 2 Axes>"
      ]
     },
     "metadata": {
      "needs_background": "light"
     },
     "output_type": "display_data"
    }
   ],
   "source": [
    "sp.sign_plot(sp.posthoc_vanwaerden(df, val_col='MTT', group_col='substance', p_adjust='fdr_bh'), **heatmap_args)"
   ]
  },
  {
   "cell_type": "code",
   "execution_count": 490,
   "metadata": {},
   "outputs": [
    {
     "name": "stderr",
     "output_type": "stream",
     "text": [
      "c:\\python37\\lib\\site-packages\\scipy\\stats\\morestats.py:2388: UserWarning: Warning: sample size too small for normal approximation.\n",
      "  warnings.warn(\"Warning: sample size too small for normal approximation.\")\n",
      "c:\\python37\\lib\\site-packages\\scipy\\stats\\morestats.py:2388: UserWarning: Warning: sample size too small for normal approximation.\n",
      "  warnings.warn(\"Warning: sample size too small for normal approximation.\")\n",
      "c:\\python37\\lib\\site-packages\\scipy\\stats\\morestats.py:2388: UserWarning: Warning: sample size too small for normal approximation.\n",
      "  warnings.warn(\"Warning: sample size too small for normal approximation.\")\n",
      "c:\\python37\\lib\\site-packages\\scipy\\stats\\morestats.py:2388: UserWarning: Warning: sample size too small for normal approximation.\n",
      "  warnings.warn(\"Warning: sample size too small for normal approximation.\")\n",
      "c:\\python37\\lib\\site-packages\\scipy\\stats\\morestats.py:2388: UserWarning: Warning: sample size too small for normal approximation.\n",
      "  warnings.warn(\"Warning: sample size too small for normal approximation.\")\n",
      "c:\\python37\\lib\\site-packages\\scipy\\stats\\morestats.py:2388: UserWarning: Warning: sample size too small for normal approximation.\n",
      "  warnings.warn(\"Warning: sample size too small for normal approximation.\")\n",
      "c:\\python37\\lib\\site-packages\\scipy\\stats\\morestats.py:2388: UserWarning: Warning: sample size too small for normal approximation.\n",
      "  warnings.warn(\"Warning: sample size too small for normal approximation.\")\n",
      "c:\\python37\\lib\\site-packages\\scipy\\stats\\morestats.py:2388: UserWarning: Warning: sample size too small for normal approximation.\n",
      "  warnings.warn(\"Warning: sample size too small for normal approximation.\")\n",
      "c:\\python37\\lib\\site-packages\\scipy\\stats\\morestats.py:2388: UserWarning: Warning: sample size too small for normal approximation.\n",
      "  warnings.warn(\"Warning: sample size too small for normal approximation.\")\n",
      "c:\\python37\\lib\\site-packages\\scipy\\stats\\morestats.py:2388: UserWarning: Warning: sample size too small for normal approximation.\n",
      "  warnings.warn(\"Warning: sample size too small for normal approximation.\")\n",
      "c:\\python37\\lib\\site-packages\\scipy\\stats\\morestats.py:2388: UserWarning: Warning: sample size too small for normal approximation.\n",
      "  warnings.warn(\"Warning: sample size too small for normal approximation.\")\n",
      "c:\\python37\\lib\\site-packages\\scipy\\stats\\morestats.py:2388: UserWarning: Warning: sample size too small for normal approximation.\n",
      "  warnings.warn(\"Warning: sample size too small for normal approximation.\")\n",
      "c:\\python37\\lib\\site-packages\\scipy\\stats\\morestats.py:2388: UserWarning: Warning: sample size too small for normal approximation.\n",
      "  warnings.warn(\"Warning: sample size too small for normal approximation.\")\n",
      "c:\\python37\\lib\\site-packages\\scipy\\stats\\morestats.py:2388: UserWarning: Warning: sample size too small for normal approximation.\n",
      "  warnings.warn(\"Warning: sample size too small for normal approximation.\")\n",
      "c:\\python37\\lib\\site-packages\\scipy\\stats\\morestats.py:2388: UserWarning: Warning: sample size too small for normal approximation.\n",
      "  warnings.warn(\"Warning: sample size too small for normal approximation.\")\n",
      "c:\\python37\\lib\\site-packages\\scipy\\stats\\morestats.py:2388: UserWarning: Warning: sample size too small for normal approximation.\n",
      "  warnings.warn(\"Warning: sample size too small for normal approximation.\")\n",
      "c:\\python37\\lib\\site-packages\\scipy\\stats\\morestats.py:2388: UserWarning: Warning: sample size too small for normal approximation.\n",
      "  warnings.warn(\"Warning: sample size too small for normal approximation.\")\n",
      "c:\\python37\\lib\\site-packages\\scipy\\stats\\morestats.py:2388: UserWarning: Warning: sample size too small for normal approximation.\n",
      "  warnings.warn(\"Warning: sample size too small for normal approximation.\")\n",
      "c:\\python37\\lib\\site-packages\\scipy\\stats\\morestats.py:2388: UserWarning: Warning: sample size too small for normal approximation.\n",
      "  warnings.warn(\"Warning: sample size too small for normal approximation.\")\n",
      "c:\\python37\\lib\\site-packages\\scipy\\stats\\morestats.py:2388: UserWarning: Warning: sample size too small for normal approximation.\n",
      "  warnings.warn(\"Warning: sample size too small for normal approximation.\")\n",
      "c:\\python37\\lib\\site-packages\\scipy\\stats\\morestats.py:2388: UserWarning: Warning: sample size too small for normal approximation.\n",
      "  warnings.warn(\"Warning: sample size too small for normal approximation.\")\n"
     ]
    },
    {
     "data": {
      "text/plain": [
       "(<matplotlib.axes._subplots.AxesSubplot at 0x21610e5b5c0>,\n",
       " <matplotlib.colorbar.ColorbarBase at 0x21610ec7a90>)"
      ]
     },
     "execution_count": 490,
     "metadata": {},
     "output_type": "execute_result"
    },
    {
     "data": {
      "image/png": "[encoded data removed]",
      "text/plain": [
       "<Figure size 432x288 with 2 Axes>"
      ]
     },
     "metadata": {
      "needs_background": "light"
     },
     "output_type": "display_data"
    }
   ],
   "source": [
    "sp.sign_plot(sp.posthoc_wilcoxon(df, val_col='MTT', group_col='substance', p_adjust='fdr_bh'), **heatmap_args)"
   ]
  },
  {
   "cell_type": "code",
   "execution_count": 491,
   "metadata": {},
   "outputs": [
    {
     "data": {
      "text/plain": [
       "0.010256593661381552"
      ]
     },
     "execution_count": 491,
     "metadata": {},
     "output_type": "execute_result"
    }
   ],
   "source": [
    "data = [df.loc[ids, 'MTT'].values for ids in df.groupby('substance').groups.values()]\n",
    "H, p = ss.kruskal(*data)\n",
    "p"
   ]
  },
  {
   "cell_type": "code",
   "execution_count": 492,
   "metadata": {},
   "outputs": [
    {
     "data": {
      "text/plain": [
       "(<matplotlib.axes._subplots.AxesSubplot at 0x21610edaa58>,\n",
       " <matplotlib.colorbar.ColorbarBase at 0x21610f3a9e8>)"
      ]
     },
     "execution_count": 492,
     "metadata": {},
     "output_type": "execute_result"
    },
    {
     "data": {
      "image/png": "[encoded data removed]",
      "text/plain": [
       "<Figure size 432x288 with 2 Axes>"
      ]
     },
     "metadata": {
      "needs_background": "light"
     },
     "output_type": "display_data"
    }
   ],
   "source": [
    "\n",
    "sp.sign_plot(sp.posthoc_ttest(df, val_col='MTT', group_col='substance', p_adjust='holm'), **heatmap_args)"
   ]
  },
  {
   "cell_type": "code",
   "execution_count": 498,
   "metadata": {},
   "outputs": [
    {
     "data": {
      "text/plain": [
       "(<matplotlib.axes._subplots.AxesSubplot at 0x21611105240>,\n",
       " <matplotlib.colorbar.ColorbarBase at 0x21611178da0>)"
      ]
     },
     "execution_count": 498,
     "metadata": {},
     "output_type": "execute_result"
    },
    {
     "data": {
      "image/png": "[encoded data removed]",
      "text/plain": [
       "<Figure size 432x288 with 2 Axes>"
      ]
     },
     "metadata": {
      "needs_background": "light"
     },
     "output_type": "display_data"
    }
   ],
   "source": [
    "sp.sign_plot(sp.posthoc_ttest(df.loc[df.substance != 'DMSO'], val_col='MTT', \n",
    "                              group_col='substance', \n",
    "                              p_adjust='holm'), \n",
    "             **heatmap_args)"
   ]
  },
  {
   "cell_type": "code",
   "execution_count": 496,
   "metadata": {},
   "outputs": [
    {
     "data": {
      "text/html": [
       "<div>\n",
       "<style scoped>\n",
       "    .dataframe tbody tr th:only-of-type {\n",
       "        vertical-align: middle;\n",
       "    }\n",
       "\n",
       "    .dataframe tbody tr th {\n",
       "        vertical-align: top;\n",
       "    }\n",
       "\n",
       "    .dataframe thead th {\n",
       "        text-align: right;\n",
       "    }\n",
       "</style>\n",
       "<table border=\"1\" class=\"dataframe\">\n",
       "  <thead>\n",
       "    <tr style=\"text-align: right;\">\n",
       "      <th></th>\n",
       "      <th>MTT</th>\n",
       "      <th>substance</th>\n",
       "    </tr>\n",
       "  </thead>\n",
       "  <tbody>\n",
       "    <tr>\n",
       "      <th>6</th>\n",
       "      <td>1.119</td>\n",
       "      <td>control</td>\n",
       "    </tr>\n",
       "    <tr>\n",
       "      <th>7</th>\n",
       "      <td>1.008</td>\n",
       "      <td>control</td>\n",
       "    </tr>\n",
       "    <tr>\n",
       "      <th>8</th>\n",
       "      <td>0.782</td>\n",
       "      <td>control</td>\n",
       "    </tr>\n",
       "    <tr>\n",
       "      <th>9</th>\n",
       "      <td>0.652</td>\n",
       "      <td>control</td>\n",
       "    </tr>\n",
       "    <tr>\n",
       "      <th>10</th>\n",
       "      <td>0.632</td>\n",
       "      <td>control</td>\n",
       "    </tr>\n",
       "    <tr>\n",
       "      <th>11</th>\n",
       "      <td>0.563</td>\n",
       "      <td>control</td>\n",
       "    </tr>\n",
       "    <tr>\n",
       "      <th>12</th>\n",
       "      <td>0.880</td>\n",
       "      <td>neoton1</td>\n",
       "    </tr>\n",
       "    <tr>\n",
       "      <th>13</th>\n",
       "      <td>0.950</td>\n",
       "      <td>neoton1</td>\n",
       "    </tr>\n",
       "    <tr>\n",
       "      <th>14</th>\n",
       "      <td>0.848</td>\n",
       "      <td>neoton1</td>\n",
       "    </tr>\n",
       "    <tr>\n",
       "      <th>15</th>\n",
       "      <td>0.803</td>\n",
       "      <td>neoton1</td>\n",
       "    </tr>\n",
       "    <tr>\n",
       "      <th>16</th>\n",
       "      <td>0.925</td>\n",
       "      <td>neoton1</td>\n",
       "    </tr>\n",
       "    <tr>\n",
       "      <th>17</th>\n",
       "      <td>0.800</td>\n",
       "      <td>neoton1</td>\n",
       "    </tr>\n",
       "    <tr>\n",
       "      <th>18</th>\n",
       "      <td>0.854</td>\n",
       "      <td>neoton10</td>\n",
       "    </tr>\n",
       "    <tr>\n",
       "      <th>19</th>\n",
       "      <td>0.850</td>\n",
       "      <td>neoton10</td>\n",
       "    </tr>\n",
       "    <tr>\n",
       "      <th>20</th>\n",
       "      <td>0.911</td>\n",
       "      <td>neoton10</td>\n",
       "    </tr>\n",
       "    <tr>\n",
       "      <th>21</th>\n",
       "      <td>0.844</td>\n",
       "      <td>neoton10</td>\n",
       "    </tr>\n",
       "    <tr>\n",
       "      <th>22</th>\n",
       "      <td>0.738</td>\n",
       "      <td>neoton10</td>\n",
       "    </tr>\n",
       "    <tr>\n",
       "      <th>23</th>\n",
       "      <td>0.767</td>\n",
       "      <td>neoton10</td>\n",
       "    </tr>\n",
       "    <tr>\n",
       "      <th>24</th>\n",
       "      <td>0.913</td>\n",
       "      <td>unifusol2</td>\n",
       "    </tr>\n",
       "    <tr>\n",
       "      <th>25</th>\n",
       "      <td>0.966</td>\n",
       "      <td>unifusol2</td>\n",
       "    </tr>\n",
       "    <tr>\n",
       "      <th>26</th>\n",
       "      <td>0.873</td>\n",
       "      <td>unifusol2</td>\n",
       "    </tr>\n",
       "    <tr>\n",
       "      <th>27</th>\n",
       "      <td>0.733</td>\n",
       "      <td>unifusol2</td>\n",
       "    </tr>\n",
       "    <tr>\n",
       "      <th>28</th>\n",
       "      <td>0.621</td>\n",
       "      <td>unifusol2</td>\n",
       "    </tr>\n",
       "    <tr>\n",
       "      <th>29</th>\n",
       "      <td>0.848</td>\n",
       "      <td>unifusol2</td>\n",
       "    </tr>\n",
       "    <tr>\n",
       "      <th>30</th>\n",
       "      <td>0.957</td>\n",
       "      <td>unifusol20</td>\n",
       "    </tr>\n",
       "    <tr>\n",
       "      <th>31</th>\n",
       "      <td>1.352</td>\n",
       "      <td>unifusol20</td>\n",
       "    </tr>\n",
       "    <tr>\n",
       "      <th>32</th>\n",
       "      <td>1.078</td>\n",
       "      <td>unifusol20</td>\n",
       "    </tr>\n",
       "    <tr>\n",
       "      <th>33</th>\n",
       "      <td>0.553</td>\n",
       "      <td>unifusol20</td>\n",
       "    </tr>\n",
       "    <tr>\n",
       "      <th>34</th>\n",
       "      <td>0.524</td>\n",
       "      <td>unifusol20</td>\n",
       "    </tr>\n",
       "    <tr>\n",
       "      <th>35</th>\n",
       "      <td>0.754</td>\n",
       "      <td>unifusol20</td>\n",
       "    </tr>\n",
       "    <tr>\n",
       "      <th>36</th>\n",
       "      <td>0.908</td>\n",
       "      <td>PBS20</td>\n",
       "    </tr>\n",
       "    <tr>\n",
       "      <th>37</th>\n",
       "      <td>0.943</td>\n",
       "      <td>PBS20</td>\n",
       "    </tr>\n",
       "    <tr>\n",
       "      <th>38</th>\n",
       "      <td>1.122</td>\n",
       "      <td>PBS20</td>\n",
       "    </tr>\n",
       "    <tr>\n",
       "      <th>39</th>\n",
       "      <td>0.899</td>\n",
       "      <td>PBS20</td>\n",
       "    </tr>\n",
       "    <tr>\n",
       "      <th>40</th>\n",
       "      <td>0.750</td>\n",
       "      <td>PBS20</td>\n",
       "    </tr>\n",
       "    <tr>\n",
       "      <th>41</th>\n",
       "      <td>0.870</td>\n",
       "      <td>PBS20</td>\n",
       "    </tr>\n",
       "  </tbody>\n",
       "</table>\n",
       "</div>"
      ],
      "text/plain": [
       "      MTT   substance\n",
       "6   1.119     control\n",
       "7   1.008     control\n",
       "8   0.782     control\n",
       "9   0.652     control\n",
       "10  0.632     control\n",
       "11  0.563     control\n",
       "12  0.880     neoton1\n",
       "13  0.950     neoton1\n",
       "14  0.848     neoton1\n",
       "15  0.803     neoton1\n",
       "16  0.925     neoton1\n",
       "17  0.800     neoton1\n",
       "18  0.854    neoton10\n",
       "19  0.850    neoton10\n",
       "20  0.911    neoton10\n",
       "21  0.844    neoton10\n",
       "22  0.738    neoton10\n",
       "23  0.767    neoton10\n",
       "24  0.913   unifusol2\n",
       "25  0.966   unifusol2\n",
       "26  0.873   unifusol2\n",
       "27  0.733   unifusol2\n",
       "28  0.621   unifusol2\n",
       "29  0.848   unifusol2\n",
       "30  0.957  unifusol20\n",
       "31  1.352  unifusol20\n",
       "32  1.078  unifusol20\n",
       "33  0.553  unifusol20\n",
       "34  0.524  unifusol20\n",
       "35  0.754  unifusol20\n",
       "36  0.908       PBS20\n",
       "37  0.943       PBS20\n",
       "38  1.122       PBS20\n",
       "39  0.899       PBS20\n",
       "40  0.750       PBS20\n",
       "41  0.870       PBS20"
      ]
     },
     "execution_count": 496,
     "metadata": {},
     "output_type": "execute_result"
    }
   ],
   "source": [
    "df.loc[df.substance != 'DMSO']"
   ]
  },
  {
   "cell_type": "code",
   "execution_count": 505,
   "metadata": {},
   "outputs": [
    {
     "ename": "KeyError",
     "evalue": "'MTT'",
     "output_type": "error",
     "traceback": [
      "\u001b[1;31m---------------------------------------------------------------------------\u001b[0m",
      "\u001b[1;31mKeyError\u001b[0m                                  Traceback (most recent call last)",
      "\u001b[1;32m<ipython-input-505-57d161d882ab>\u001b[0m in \u001b[0;36m<module>\u001b[1;34m\u001b[0m\n\u001b[0;32m      1\u001b[0m sp.sign_plot(sp.posthoc_ttest(df.loc[df.substance != 'DMSO'], val_col='MTT', \n\u001b[0;32m      2\u001b[0m                               \u001b[0mgroup_col\u001b[0m\u001b[1;33m=\u001b[0m\u001b[1;34m'substance'\u001b[0m\u001b[1;33m,\u001b[0m\u001b[1;33m\u001b[0m\u001b[0m\n\u001b[1;32m----> 3\u001b[1;33m                               p_adjust='holm'), \n\u001b[0m\u001b[0;32m      4\u001b[0m              **heatmap_args)\n",
      "\u001b[1;32mc:\\python37\\lib\\site-packages\\scikit_posthocs\\_posthocs.py\u001b[0m in \u001b[0;36mposthoc_ttest\u001b[1;34m(a, val_col, group_col, pool_sd, equal_var, p_adjust, sort)\u001b[0m\n\u001b[0;32m   1786\u001b[0m             \u001b[0mx\u001b[0m\u001b[1;33m[\u001b[0m\u001b[0mgroup_col\u001b[0m\u001b[1;33m]\u001b[0m \u001b[1;33m=\u001b[0m \u001b[0mCategorical\u001b[0m\u001b[1;33m(\u001b[0m\u001b[0mx\u001b[0m\u001b[1;33m[\u001b[0m\u001b[0mgroup_col\u001b[0m\u001b[1;33m]\u001b[0m\u001b[1;33m,\u001b[0m \u001b[0mcategories\u001b[0m\u001b[1;33m=\u001b[0m\u001b[0mx\u001b[0m\u001b[1;33m[\u001b[0m\u001b[0mgroup_col\u001b[0m\u001b[1;33m]\u001b[0m\u001b[1;33m.\u001b[0m\u001b[0munique\u001b[0m\u001b[1;33m(\u001b[0m\u001b[1;33m)\u001b[0m\u001b[1;33m,\u001b[0m \u001b[0mordered\u001b[0m\u001b[1;33m=\u001b[0m\u001b[1;32mTrue\u001b[0m\u001b[1;33m)\u001b[0m\u001b[1;33m\u001b[0m\u001b[0m\n\u001b[0;32m   1787\u001b[0m \u001b[1;33m\u001b[0m\u001b[0m\n\u001b[1;32m-> 1788\u001b[1;33m         \u001b[0mx\u001b[0m\u001b[1;33m.\u001b[0m\u001b[0msort_values\u001b[0m\u001b[1;33m(\u001b[0m\u001b[0mby\u001b[0m\u001b[1;33m=\u001b[0m\u001b[1;33m[\u001b[0m\u001b[0mgroup_col\u001b[0m\u001b[1;33m,\u001b[0m \u001b[0mval_col\u001b[0m\u001b[1;33m]\u001b[0m\u001b[1;33m,\u001b[0m \u001b[0mascending\u001b[0m\u001b[1;33m=\u001b[0m\u001b[1;32mTrue\u001b[0m\u001b[1;33m,\u001b[0m \u001b[0minplace\u001b[0m\u001b[1;33m=\u001b[0m\u001b[1;32mTrue\u001b[0m\u001b[1;33m)\u001b[0m\u001b[1;33m\u001b[0m\u001b[0m\n\u001b[0m\u001b[0;32m   1789\u001b[0m         \u001b[0mx_lens\u001b[0m \u001b[1;33m=\u001b[0m \u001b[0mx\u001b[0m\u001b[1;33m.\u001b[0m\u001b[0mgroupby\u001b[0m\u001b[1;33m(\u001b[0m\u001b[0mby\u001b[0m\u001b[1;33m=\u001b[0m\u001b[0mgroup_col\u001b[0m\u001b[1;33m)\u001b[0m\u001b[1;33m[\u001b[0m\u001b[0mval_col\u001b[0m\u001b[1;33m]\u001b[0m\u001b[1;33m.\u001b[0m\u001b[0mcount\u001b[0m\u001b[1;33m(\u001b[0m\u001b[1;33m)\u001b[0m\u001b[1;33m.\u001b[0m\u001b[0mvalues\u001b[0m\u001b[1;33m\u001b[0m\u001b[0m\n\u001b[0;32m   1790\u001b[0m         \u001b[0mx_lens_cumsum\u001b[0m \u001b[1;33m=\u001b[0m \u001b[0mnp\u001b[0m\u001b[1;33m.\u001b[0m\u001b[0minsert\u001b[0m\u001b[1;33m(\u001b[0m\u001b[0mnp\u001b[0m\u001b[1;33m.\u001b[0m\u001b[0mcumsum\u001b[0m\u001b[1;33m(\u001b[0m\u001b[0mx_lens\u001b[0m\u001b[1;33m)\u001b[0m\u001b[1;33m,\u001b[0m \u001b[1;36m0\u001b[0m\u001b[1;33m,\u001b[0m \u001b[1;36m0\u001b[0m\u001b[1;33m)\u001b[0m\u001b[1;33m[\u001b[0m\u001b[1;33m:\u001b[0m\u001b[1;33m-\u001b[0m\u001b[1;36m1\u001b[0m\u001b[1;33m]\u001b[0m\u001b[1;33m\u001b[0m\u001b[0m\n",
      "\u001b[1;32mc:\\python37\\lib\\site-packages\\pandas\\core\\frame.py\u001b[0m in \u001b[0;36msort_values\u001b[1;34m(self, by, axis, ascending, inplace, kind, na_position)\u001b[0m\n\u001b[0;32m   4409\u001b[0m             \u001b[1;32mfor\u001b[0m \u001b[0mx\u001b[0m \u001b[1;32min\u001b[0m \u001b[0mby\u001b[0m\u001b[1;33m:\u001b[0m\u001b[1;33m\u001b[0m\u001b[0m\n\u001b[0;32m   4410\u001b[0m                 k = self._get_label_or_level_values(x, axis=axis,\n\u001b[1;32m-> 4411\u001b[1;33m                                                     stacklevel=stacklevel)\n\u001b[0m\u001b[0;32m   4412\u001b[0m                 \u001b[0mkeys\u001b[0m\u001b[1;33m.\u001b[0m\u001b[0mappend\u001b[0m\u001b[1;33m(\u001b[0m\u001b[0mk\u001b[0m\u001b[1;33m)\u001b[0m\u001b[1;33m\u001b[0m\u001b[0m\n\u001b[0;32m   4413\u001b[0m             indexer = lexsort_indexer(keys, orders=ascending,\n",
      "\u001b[1;32mc:\\python37\\lib\\site-packages\\pandas\\core\\generic.py\u001b[0m in \u001b[0;36m_get_label_or_level_values\u001b[1;34m(self, key, axis, stacklevel)\u001b[0m\n\u001b[0;32m   1380\u001b[0m             \u001b[0mvalues\u001b[0m \u001b[1;33m=\u001b[0m \u001b[0mself\u001b[0m\u001b[1;33m.\u001b[0m\u001b[0maxes\u001b[0m\u001b[1;33m[\u001b[0m\u001b[0maxis\u001b[0m\u001b[1;33m]\u001b[0m\u001b[1;33m.\u001b[0m\u001b[0mget_level_values\u001b[0m\u001b[1;33m(\u001b[0m\u001b[0mkey\u001b[0m\u001b[1;33m)\u001b[0m\u001b[1;33m.\u001b[0m\u001b[0m_values\u001b[0m\u001b[1;33m\u001b[0m\u001b[0m\n\u001b[0;32m   1381\u001b[0m         \u001b[1;32melse\u001b[0m\u001b[1;33m:\u001b[0m\u001b[1;33m\u001b[0m\u001b[0m\n\u001b[1;32m-> 1382\u001b[1;33m             \u001b[1;32mraise\u001b[0m \u001b[0mKeyError\u001b[0m\u001b[1;33m(\u001b[0m\u001b[0mkey\u001b[0m\u001b[1;33m)\u001b[0m\u001b[1;33m\u001b[0m\u001b[0m\n\u001b[0m\u001b[0;32m   1383\u001b[0m \u001b[1;33m\u001b[0m\u001b[0m\n\u001b[0;32m   1384\u001b[0m         \u001b[1;31m# Check for duplicates\u001b[0m\u001b[1;33m\u001b[0m\u001b[1;33m\u001b[0m\u001b[0m\n",
      "\u001b[1;31mKeyError\u001b[0m: 'MTT'"
     ]
    }
   ],
   "source": [
    "sp.sign_plot(sp.posthoc_ttest(df.loc[df.substance != 'DMSO'], val_col='MTT', \n",
    "                              group_col='substance', \n",
    "                              p_adjust='holm'), \n",
    "             **heatmap_args)"
   ]
  },
  {
   "cell_type": "code",
   "execution_count": null,
   "metadata": {},
   "outputs": [],
   "source": []
  }
 ],
 "metadata": {
  "kernelspec": {
   "display_name": "Python 3",
   "language": "python",
   "name": "python3"
  },
  "language_info": {
   "codemirror_mode": {
    "name": "ipython",
    "version": 3
   },
   "file_extension": ".py",
   "mimetype": "text/x-python",
   "name": "python",
   "nbconvert_exporter": "python",
   "pygments_lexer": "ipython3",
   "version": "3.7.0"
  }
 },
 "nbformat": 4,
 "nbformat_minor": 2
}
